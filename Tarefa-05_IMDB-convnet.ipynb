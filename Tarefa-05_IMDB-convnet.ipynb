{
  "nbformat": 4,
  "nbformat_minor": 0,
  "metadata": {
    "colab": {
      "provenance": [],
      "gpuType": "T4",
      "include_colab_link": true
    },
    "kernelspec": {
      "name": "python3",
      "display_name": "Python 3"
    },
    "language_info": {
      "name": "python"
    },
    "accelerator": "GPU",
    "gpuClass": "standard"
  },
  "cells": [
    {
      "cell_type": "markdown",
      "metadata": {
        "id": "view-in-github",
        "colab_type": "text"
      },
      "source": [
        "<a href=\"https://colab.research.google.com/github/louisestella/deepLearning/blob/main/Tarefa-05_IMDB-convnet.ipynb\" target=\"_parent\"><img src=\"https://colab.research.google.com/assets/colab-badge.svg\" alt=\"Open In Colab\"/></a>"
      ]
    },
    {
      "cell_type": "markdown",
      "source": [
        "**UFRN** - Departamento de Informática e Matemática Aplicada\n",
        "\n",
        "Inteligência Artificial - **Aprendizado Profundo**\n",
        "\n",
        "**Disciplina:** DIM0494 - *Tópicos Especiais em Computação XV*\n",
        "\n",
        "**Professor:** Ranniery Maia\n",
        "\n",
        "**Aluna:** Louise Stella"
      ],
      "metadata": {
        "id": "-CSQAQjhImI6"
      }
    },
    {
      "cell_type": "markdown",
      "source": [
        "# Tarefa 05  - IMDB com redes convolucionais\n",
        "\n",
        "\n",
        "\n",
        "Usando o notebook \"imdb_lstm\" pede-se:\n",
        "\n",
        "> - troque o modelo que utiliza redes recorrentes (LSTM) por um modelo baseado em redes convolucionais.\n",
        "- Compare os dois models (modelo LSTM e convnet) em termos de número de parâmetros, tempo de treinamento e desempenho.\n"
      ],
      "metadata": {
        "id": "r4iLrbeGJe-S"
      }
    },
    {
      "cell_type": "code",
      "execution_count": 2,
      "metadata": {
        "id": "ck43YNEaFgHn"
      },
      "outputs": [],
      "source": [
        "import argparse, os\n",
        "import numpy as np\n",
        "import pandas as pd\n",
        "import matplotlib.pyplot as plt\n",
        "from tensorflow import keras\n",
        "from tensorflow.keras.datasets import imdb\n",
        "from tensorflow.keras import models, layers, optimizers, losses, metrics\n",
        "from tensorflow.keras.callbacks import ModelCheckpoint, EarlyStopping, TensorBoard\n",
        "\n",
        "from sklearn.model_selection import train_test_split\n",
        "from sklearn.metrics import confusion_matrix"
      ]
    },
    {
      "cell_type": "code",
      "source": [
        "# constants and hyperparameters\n",
        "MAX_WORD_INDEX = 10000\n",
        "\n",
        "BATCH_SIZE = 128\n",
        "NUM_EPOCHS = 10\n",
        "LR = 0.001\n",
        "BETA1 = 0.9\n",
        "BETA2 = 0.999\n",
        "EPSILON = 1.0e-8\n",
        "DECAY = 0.0\n",
        "VAL_PERC = 0.1\n",
        "\n",
        "EMBEDDING_DIM = 64\n",
        "NUM_LSTM_UNITS = 32\n",
        "DROPOUT_RATE = 0.5"
      ],
      "metadata": {
        "id": "w5JUZvaaIhDV"
      },
      "execution_count": 3,
      "outputs": []
    },
    {
      "cell_type": "code",
      "source": [
        "# load database using Keras\n",
        "(train_data, train_labels), (test_data, test_labels) = imdb.load_data(num_words = MAX_WORD_INDEX)\n",
        "X = np.concatenate((train_data, test_data), axis=0)\n",
        "y = np.concatenate((train_labels, test_labels), axis=0)\n",
        "\n",
        "train_data, test_data, train_labels, test_labels = train_test_split(X, y, test_size=0.2, random_state=42)"
      ],
      "metadata": {
        "id": "pJCcslOwIt2Z",
        "colab": {
          "base_uri": "https://localhost:8080/"
        },
        "outputId": "ac7df5a5-1c14-44b9-ea1c-68f3c8599bc7"
      },
      "execution_count": 4,
      "outputs": [
        {
          "output_type": "stream",
          "name": "stdout",
          "text": [
            "Downloading data from https://storage.googleapis.com/tensorflow/tf-keras-datasets/imdb.npz\n",
            "17464789/17464789 [==============================] - 2s 0us/step\n"
          ]
        }
      ]
    },
    {
      "cell_type": "code",
      "source": [
        "#  print some information on the data\n",
        "max_seq_len_train = max([len(sequence) for sequence in train_data])\n",
        "max_seq_len_test = max([len(sequence) for sequence in test_data])\n",
        "min_seq_len_train = min([len(sequence) for sequence in train_data])\n",
        "min_seq_len_test = min([len(sequence) for sequence in test_data])\n",
        "print(f'Maximum train sequence length: {max_seq_len_train}')\n",
        "print(f'Maximum test sequence length: {max_seq_len_test}')\n",
        "print(f'Minimum train sequence length: {min_seq_len_train}')\n",
        "print(f'Minimum test sequence length: {min_seq_len_test}')"
      ],
      "metadata": {
        "colab": {
          "base_uri": "https://localhost:8080/"
        },
        "id": "Hjeqt1L1I15N",
        "outputId": "c0587131-cef4-4799-97a0-d9c375c16c08"
      },
      "execution_count": 5,
      "outputs": [
        {
          "output_type": "stream",
          "name": "stdout",
          "text": [
            "Maximum train sequence length: 2494\n",
            "Maximum test sequence length: 2315\n",
            "Minimum train sequence length: 7\n",
            "Minimum test sequence length: 11\n"
          ]
        }
      ]
    },
    {
      "cell_type": "code",
      "source": [
        "# randomly selects a sentence, look at the encoding and check its label\n",
        "word_index = imdb.get_word_index()\n",
        "\n",
        "ind = 33\n",
        "\n",
        "reverse_word_index = dict([(value, key) for (key, value) in word_index.items()])\n",
        "\n",
        "decoded_review = ' '.join([reverse_word_index.get(i-3, '?') for i in train_data[ind]])\n",
        "\n",
        "print(f'REVIEW:\\n {decoded_review}\\n')\n",
        "print(f'Encoded sequence of words:\\n {train_data[ind]}\\n')\n",
        "print(f'Label: {train_labels[ind]}\\n')"
      ],
      "metadata": {
        "colab": {
          "base_uri": "https://localhost:8080/"
        },
        "id": "MDb4T0w5I2cb",
        "outputId": "f600f06d-960d-4982-8266-329321cf6211"
      },
      "execution_count": 6,
      "outputs": [
        {
          "output_type": "stream",
          "name": "stdout",
          "text": [
            "Downloading data from https://storage.googleapis.com/tensorflow/tf-keras-datasets/imdb_word_index.json\n",
            "1641221/1641221 [==============================] - 1s 1us/step\n",
            "REVIEW:\n",
            " ? big hair big boobs bad music and a giant safety pin these are the words to best describe this terrible movie i love cheesy horror movies and i've seen hundreds but this had got to be on of the worst ever made the plot is paper thin and ridiculous the acting is an abomination the script is completely laughable the best is the end showdown with the cop and how he worked out who the killer is it's just so damn terribly written the clothes are sickening and funny in equal ? the hair is big lots of boobs ? men wear those cut ? shirts that show off their ? sickening that men actually wore them and the music is just ? trash that plays over and over again in almost every scene there is trashy music boobs and ? taking away bodies and the gym still doesn't close for ? all joking aside this is a truly bad film whose only charm is to look back on the disaster that was the 80's and have a good old laugh at how bad everything was back then\n",
            "\n",
            "Encoded sequence of words:\n",
            " [1, 194, 1153, 194, 8255, 78, 228, 5, 6, 1463, 4369, 5012, 134, 26, 4, 715, 8, 118, 1634, 14, 394, 20, 13, 119, 954, 189, 102, 5, 207, 110, 3103, 21, 14, 69, 188, 8, 30, 23, 7, 4, 249, 126, 93, 4, 114, 9, 2300, 1523, 5, 647, 4, 116, 9, 35, 8163, 4, 229, 9, 340, 1322, 4, 118, 9, 4, 130, 4901, 19, 4, 1002, 5, 89, 29, 952, 46, 37, 4, 455, 9, 45, 43, 38, 1543, 1905, 398, 4, 1649, 26, 6853, 5, 163, 11, 3215, 2, 4, 1153, 9, 194, 775, 7, 8255, 2, 349, 2637, 148, 605, 2, 8003, 15, 123, 125, 68, 2, 6853, 15, 349, 165, 4362, 98, 5, 4, 228, 9, 43, 2, 1157, 15, 299, 120, 5, 120, 174, 11, 220, 175, 136, 50, 9, 4373, 228, 8255, 5, 2, 656, 245, 2350, 5, 4, 9837, 131, 152, 491, 18, 2, 32, 7464, 1212, 14, 9, 6, 371, 78, 22, 625, 64, 1382, 9, 8, 168, 145, 23, 4, 1690, 15, 16, 4, 1355, 5, 28, 6, 52, 154, 462, 33, 89, 78, 285, 16, 145, 95]\n",
            "\n",
            "Label: 0\n",
            "\n"
          ]
        }
      ]
    },
    {
      "cell_type": "code",
      "source": [
        "# pad sequences\n",
        "X_train = keras.preprocessing.sequence.pad_sequences(train_data)\n",
        "X_test = keras.preprocessing.sequence.pad_sequences(test_data)\n",
        "print(f'X_train shape: {X_train.shape}')\n",
        "print(f'X_test shape: {X_test.shape}')"
      ],
      "metadata": {
        "colab": {
          "base_uri": "https://localhost:8080/"
        },
        "id": "A0-ivyWRI8HU",
        "outputId": "046d5e50-53a2-4723-bc98-af15bf52f82a"
      },
      "execution_count": 7,
      "outputs": [
        {
          "output_type": "stream",
          "name": "stdout",
          "text": [
            "X_train shape: (40000, 2494)\n",
            "X_test shape: (10000, 2315)\n"
          ]
        }
      ]
    },
    {
      "cell_type": "code",
      "source": [
        "# transform labels  into arrays\n",
        "y_train = np.asarray(train_labels).astype('float32')\n",
        "y_test  = np.asarray(test_labels).astype('float32')\n",
        "print(f'y_train shape: {y_train.shape}')\n",
        "print(f'y_test shape: {y_test.shape}')"
      ],
      "metadata": {
        "colab": {
          "base_uri": "https://localhost:8080/"
        },
        "id": "eYu9hbzOJS_q",
        "outputId": "d9cb6be6-a79f-4b75-c329-c63b0d24fab2"
      },
      "execution_count": 8,
      "outputs": [
        {
          "output_type": "stream",
          "name": "stdout",
          "text": [
            "y_train shape: (40000,)\n",
            "y_test shape: (10000,)\n"
          ]
        }
      ]
    },
    {
      "cell_type": "code",
      "source": [
        "# split training data into training and validation\n",
        "nsamples = X_train.shape[0]\n",
        "nval_samples = int(VAL_PERC * nsamples)\n",
        "X_val = X_train[:nval_samples]\n",
        "partial_X_train = X_train[nval_samples:]\n",
        "y_val = y_train[:nval_samples]\n",
        "partial_y_train = y_train[nval_samples:]"
      ],
      "metadata": {
        "id": "Aa76DVIEJVAH"
      },
      "execution_count": 9,
      "outputs": []
    },
    {
      "cell_type": "code",
      "source": [
        "# build model\n",
        "model = models.Sequential()\n",
        "model.add(layers.Embedding(MAX_WORD_INDEX, EMBEDDING_DIM))\n",
        "model.add(layers.Conv1D(32, kernel_size=3, padding=\"same\", activation=\"relu\"))\n",
        "model.add(layers.GlobalMaxPooling1D())\n",
        "model.add(layers.Dense(1, activation='sigmoid'))\n",
        "print(model.summary())"
      ],
      "metadata": {
        "colab": {
          "base_uri": "https://localhost:8080/"
        },
        "id": "Gz7KNe-vJYjO",
        "outputId": "92d5a893-f58b-48f7-b6f9-4dcb4e323100"
      },
      "execution_count": 10,
      "outputs": [
        {
          "output_type": "stream",
          "name": "stdout",
          "text": [
            "Model: \"sequential\"\n",
            "_________________________________________________________________\n",
            " Layer (type)                Output Shape              Param #   \n",
            "=================================================================\n",
            " embedding (Embedding)       (None, None, 64)          640000    \n",
            "                                                                 \n",
            " conv1d (Conv1D)             (None, None, 32)          6176      \n",
            "                                                                 \n",
            " global_max_pooling1d (Globa  (None, 32)               0         \n",
            " lMaxPooling1D)                                                  \n",
            "                                                                 \n",
            " dense (Dense)               (None, 1)                 33        \n",
            "                                                                 \n",
            "=================================================================\n",
            "Total params: 646,209\n",
            "Trainable params: 646,209\n",
            "Non-trainable params: 0\n",
            "_________________________________________________________________\n",
            "None\n"
          ]
        }
      ]
    },
    {
      "cell_type": "code",
      "source": [
        "# set optimizer\n",
        "opt = optimizers.Adam(learning_rate=LR,\n",
        "                      beta_1=BETA1,\n",
        "                      beta_2=BETA2,\n",
        "                      epsilon=EPSILON,\n",
        "                      weight_decay=DECAY)\n",
        "\n",
        "# set loss and metrics\n",
        "loss = losses.binary_crossentropy\n",
        "met = [metrics.binary_accuracy]\n",
        "\n",
        "# compile model: optimization method, training criterion and metrics\n",
        "model.compile(\n",
        "    optimizer=opt,\n",
        "    loss=loss,\n",
        "    metrics=met\n",
        "    )"
      ],
      "metadata": {
        "id": "b8KgzQHhJbn8"
      },
      "execution_count": 11,
      "outputs": []
    },
    {
      "cell_type": "code",
      "source": [
        "# early stop\n",
        "callbacks_list = [\n",
        "    EarlyStopping(\n",
        "        monitor='binary_accuracy',\n",
        "        patience=10),\n",
        "    ]"
      ],
      "metadata": {
        "id": "QXDyViFPJf2h"
      },
      "execution_count": 12,
      "outputs": []
    },
    {
      "cell_type": "code",
      "source": [
        "# train model\n",
        "history = model.fit(partial_X_train,\n",
        "                    partial_y_train,\n",
        "                    epochs=NUM_EPOCHS,\n",
        "                    batch_size=BATCH_SIZE,\n",
        "                    shuffle=True,\n",
        "                    validation_data=(X_val, y_val),\n",
        "                    callbacks=callbacks_list,\n",
        "                    verbose=1)"
      ],
      "metadata": {
        "colab": {
          "base_uri": "https://localhost:8080/"
        },
        "id": "E9ldt2stKn-S",
        "outputId": "17aa2bd9-b1e1-4c56-e132-2a51ef1eacba"
      },
      "execution_count": 13,
      "outputs": [
        {
          "output_type": "stream",
          "name": "stdout",
          "text": [
            "Epoch 1/10\n",
            "282/282 [==============================] - 64s 194ms/step - loss: 0.4892 - binary_accuracy: 0.7720 - val_loss: 0.3323 - val_binary_accuracy: 0.8608\n",
            "Epoch 2/10\n",
            "282/282 [==============================] - 41s 147ms/step - loss: 0.2787 - binary_accuracy: 0.8859 - val_loss: 0.2715 - val_binary_accuracy: 0.8885\n",
            "Epoch 3/10\n",
            "282/282 [==============================] - 27s 97ms/step - loss: 0.1955 - binary_accuracy: 0.9272 - val_loss: 0.2473 - val_binary_accuracy: 0.8967\n",
            "Epoch 4/10\n",
            "282/282 [==============================] - 22s 78ms/step - loss: 0.1356 - binary_accuracy: 0.9554 - val_loss: 0.2513 - val_binary_accuracy: 0.8950\n",
            "Epoch 5/10\n",
            "282/282 [==============================] - 16s 55ms/step - loss: 0.0902 - binary_accuracy: 0.9758 - val_loss: 0.2599 - val_binary_accuracy: 0.8980\n",
            "Epoch 6/10\n",
            "282/282 [==============================] - 13s 48ms/step - loss: 0.0565 - binary_accuracy: 0.9883 - val_loss: 0.2716 - val_binary_accuracy: 0.9003\n",
            "Epoch 7/10\n",
            "282/282 [==============================] - 13s 45ms/step - loss: 0.0346 - binary_accuracy: 0.9949 - val_loss: 0.2856 - val_binary_accuracy: 0.9007\n",
            "Epoch 8/10\n",
            "282/282 [==============================] - 11s 38ms/step - loss: 0.0206 - binary_accuracy: 0.9981 - val_loss: 0.3058 - val_binary_accuracy: 0.8997\n",
            "Epoch 9/10\n",
            "282/282 [==============================] - 9s 31ms/step - loss: 0.0125 - binary_accuracy: 0.9991 - val_loss: 0.3207 - val_binary_accuracy: 0.8972\n",
            "Epoch 10/10\n",
            "282/282 [==============================] - 8s 29ms/step - loss: 0.0078 - binary_accuracy: 0.9996 - val_loss: 0.3371 - val_binary_accuracy: 0.8985\n"
          ]
        }
      ]
    },
    {
      "cell_type": "code",
      "source": [
        "# learning curves\n",
        "history_dict = history.history\n",
        "history_dict.keys()\n",
        "\n",
        "# losses\n",
        "loss_values = history_dict['loss']\n",
        "val_loss_values = history_dict['val_loss']\n",
        "\n",
        "# accuracies\n",
        "acc_values = history_dict['binary_accuracy']\n",
        "val_acc_values = history_dict['val_binary_accuracy']\n",
        "\n",
        "epochs = range(NUM_EPOCHS)\n",
        "\n",
        "fig, (ax1, ax2) = plt.subplots(2,1, figsize=(8,8))\n",
        "\n",
        "ax1.plot(epochs, loss_values, 'bo', label=\"Training Loss\")\n",
        "ax1.plot(epochs, val_loss_values, 'b', label=\"Validation Loss\")\n",
        "ax1.set_title('Training and Validation Loss')\n",
        "ax1.set_xlabel('Epochs')\n",
        "ax1.set_ylabel('Loss Value')\n",
        "ax1.legend()\n",
        "\n",
        "ax2.plot(epochs, acc_values, 'ro', label=\"Training Accuracy\")\n",
        "ax2.plot(epochs, val_acc_values, 'r', label=\"Validation Accuracy\")\n",
        "ax2.set_title('Training and Validation Accuraccy')\n",
        "ax2.set_xlabel('Epochs')\n",
        "ax2.set_ylabel('Accuracy')\n",
        "ax2.legend()\n",
        "\n",
        "plt.show()"
      ],
      "metadata": {
        "colab": {
          "base_uri": "https://localhost:8080/",
          "height": 718
        },
        "id": "ftuC4U55KqIq",
        "outputId": "f4f0cf80-1dec-43dd-ad59-f2ca388ba31c"
      },
      "execution_count": 14,
      "outputs": [
        {
          "output_type": "display_data",
          "data": {
            "text/plain": [
              "<Figure size 800x800 with 2 Axes>"
            ],
            "image/png": "[encoded data removed]"
          },
          "metadata": {}
        }
      ]
    },
    {
      "cell_type": "code",
      "source": [
        "y_pred = model.predict(X_test)"
      ],
      "metadata": {
        "colab": {
          "base_uri": "https://localhost:8080/"
        },
        "id": "qCdi0HiIcF4Z",
        "outputId": "e0e57dc6-0752-46f7-89f3-0a5828533fb0"
      },
      "execution_count": 15,
      "outputs": [
        {
          "output_type": "stream",
          "name": "stdout",
          "text": [
            "313/313 [==============================] - 1s 3ms/step\n"
          ]
        }
      ]
    },
    {
      "cell_type": "code",
      "source": [
        "y_pred = [ round(y[0]) for y in y_pred ]"
      ],
      "metadata": {
        "id": "OH6VXeGKcRkg"
      },
      "execution_count": 16,
      "outputs": []
    },
    {
      "cell_type": "code",
      "source": [
        "matrix = confusion_matrix(y_test, y_pred)\n",
        "matrix"
      ],
      "metadata": {
        "colab": {
          "base_uri": "https://localhost:8080/"
        },
        "id": "6amO5GMPc6Y4",
        "outputId": "b5433a3b-bc50-4f56-8255-377e9eb2c84c"
      },
      "execution_count": 17,
      "outputs": [
        {
          "output_type": "execute_result",
          "data": {
            "text/plain": [
              "array([[4394,  518],\n",
              "       [ 511, 4577]])"
            ]
          },
          "metadata": {},
          "execution_count": 17
        }
      ]
    }
  ]
}