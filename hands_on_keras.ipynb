{
  "nbformat": 4,
  "nbformat_minor": 0,
  "metadata": {
    "colab": {
      "provenance": [],
      "authorship_tag": "ABX9TyP+XrbW636dr96Qkows4WHZ",
      "include_colab_link": true
    },
    "kernelspec": {
      "name": "python3",
      "display_name": "Python 3"
    },
    "language_info": {
      "name": "python"
    },
    "accelerator": "GPU",
    "gpuClass": "standard"
  },
  "cells": [
    {
      "cell_type": "markdown",
      "metadata": {
        "id": "view-in-github",
        "colab_type": "text"
      },
      "source": [
        "<a href=\"https://colab.research.google.com/github/louisestella/deepLearning/blob/main/hands_on_keras.ipynb\" target=\"_parent\"><img src=\"https://colab.research.google.com/assets/colab-badge.svg\" alt=\"Open In Colab\"/></a>"
      ]
    },
    {
      "cell_type": "markdown",
      "source": [
        "**UFRN** - Departamento de Informática e Matemática Aplicada\n",
        "\n",
        "Inteligência Artificial - **Aprendizado Profundo**\n",
        "\n",
        "**Disciplina:** DIM0494 - *Tópicos Especiais em Computação XV*\n",
        "\n",
        "**Professor:** Ranniery Maia\n",
        "\n",
        "**Aluna:** Louise Stella Lima Barbosa"
      ],
      "metadata": {
        "id": "U_-URzOQCIH7"
      }
    },
    {
      "cell_type": "markdown",
      "source": [
        "# Tarefa  - Hands on KERAS"
      ],
      "metadata": {
        "id": "nxYvlNJmCVQy"
      }
    },
    {
      "cell_type": "code",
      "execution_count": 1,
      "metadata": {
        "id": "rn-4cgeTBEx1"
      },
      "outputs": [],
      "source": [
        "# load libraries\n",
        "from sklearn.metrics import accuracy_score,classification_report\n",
        "import numpy as np\n",
        "import matplotlib.pyplot as plt\n",
        "from sklearn import svm\n",
        "from tensorflow import keras\n",
        "from tensorflow.keras import layers\n",
        "\n"
      ]
    },
    {
      "cell_type": "code",
      "source": [
        "# Load the data and split it between train and test sets\n",
        "(X_train, y_train), (X_test, y_test) = keras.datasets.mnist.load_data()\n",
        "\n"
      ],
      "metadata": {
        "id": "RXdMzaGRBVmD"
      },
      "execution_count": 2,
      "outputs": []
    },
    {
      "cell_type": "code",
      "source": [
        "# Model / data parameters\n",
        "num_classes = 10\n",
        "input_shape = (28, 28, 1)\n"
      ],
      "metadata": {
        "id": "-Fg_utTiBdnX"
      },
      "execution_count": 3,
      "outputs": []
    },
    {
      "cell_type": "markdown",
      "source": [
        "\n",
        "# pré-processamento de dados\n"
      ],
      "metadata": {
        "id": "5H5sSAS5BeoI"
      }
    },
    {
      "cell_type": "code",
      "source": [
        "# Scale images to the [0, 1] range\n",
        "X_train = X_train.astype(\"float32\") / 255\n",
        "X_test = X_test.astype(\"float32\") / 255\n",
        "\n",
        "# Make sure images have shape (28, 28, 1)\n",
        "X_train = np.expand_dims(X_train, -1)\n",
        "X_test = np.expand_dims(X_test, -1)\n",
        "print(\"X_train shape:\", X_train.shape)\n",
        "print(X_train.shape[0], \"train samples\")\n",
        "print(X_test.shape[0], \"test samples\")"
      ],
      "metadata": {
        "colab": {
          "base_uri": "https://localhost:8080/"
        },
        "id": "5Xc7oGlRBley",
        "outputId": "ce01eedd-e5b0-4d2c-fe37-6edd0991efc4"
      },
      "execution_count": 4,
      "outputs": [
        {
          "output_type": "stream",
          "name": "stdout",
          "text": [
            "X_train shape: (60000, 28, 28, 1)\n",
            "60000 train samples\n",
            "10000 test samples\n"
          ]
        }
      ]
    },
    {
      "cell_type": "code",
      "source": [
        "# convert class vectors to binary class matrices\n",
        "#y_train = keras.utils.to_categorical(y_train, num_classes)\n",
        "#y_test = keras.utils.to_categorical(y_test, num_classes)\n",
        "#print(\"y_train shape:\", y_train.shape)"
      ],
      "metadata": {
        "id": "4UVK3g0CBpX6"
      },
      "execution_count": 5,
      "outputs": []
    },
    {
      "cell_type": "markdown",
      "source": [
        "# Construção do modelo"
      ],
      "metadata": {
        "id": "eFv-qivZBsKU"
      }
    },
    {
      "cell_type": "code",
      "source": [
        "model = keras.Sequential(\n",
        "    [\n",
        "        keras.Input(shape=input_shape),\n",
        "        layers.Conv2D(32, kernel_size=(3, 3), activation=\"relu\"),\n",
        "        layers.MaxPooling2D(pool_size=(2, 2)),\n",
        "        layers.Conv2D(64, kernel_size=(3, 3), activation=\"relu\"),\n",
        "        layers.MaxPooling2D(pool_size=(2, 2)),\n",
        "        layers.Flatten(),\n",
        "        layers.Dropout(0.25),\n",
        "        #layers.Dense(num_classes, activation=\"softmax\"),\n",
        "        layers.Dense(1, activation=\"linear\"),\n",
        "    ]\n",
        ")\n",
        "\n",
        "model.summary()"
      ],
      "metadata": {
        "colab": {
          "base_uri": "https://localhost:8080/"
        },
        "id": "_VJOaxqWBu9_",
        "outputId": "f74b70ea-7b43-4100-bca4-4aaf408f5750"
      },
      "execution_count": 13,
      "outputs": [
        {
          "output_type": "stream",
          "name": "stdout",
          "text": [
            "Model: \"sequential_1\"\n",
            "_________________________________________________________________\n",
            " Layer (type)                Output Shape              Param #   \n",
            "=================================================================\n",
            " conv2d_2 (Conv2D)           (None, 26, 26, 32)        320       \n",
            "                                                                 \n",
            " max_pooling2d_2 (MaxPooling  (None, 13, 13, 32)       0         \n",
            " 2D)                                                             \n",
            "                                                                 \n",
            " conv2d_3 (Conv2D)           (None, 11, 11, 64)        18496     \n",
            "                                                                 \n",
            " max_pooling2d_3 (MaxPooling  (None, 5, 5, 64)         0         \n",
            " 2D)                                                             \n",
            "                                                                 \n",
            " flatten_1 (Flatten)         (None, 1600)              0         \n",
            "                                                                 \n",
            " dropout_1 (Dropout)         (None, 1600)              0         \n",
            "                                                                 \n",
            " dense_1 (Dense)             (None, 1)                 1601      \n",
            "                                                                 \n",
            "=================================================================\n",
            "Total params: 20,417\n",
            "Trainable params: 20,417\n",
            "Non-trainable params: 0\n",
            "_________________________________________________________________\n"
          ]
        }
      ]
    },
    {
      "cell_type": "markdown",
      "source": [
        "# Treinamento do modelo"
      ],
      "metadata": {
        "id": "2QkcRSb9BzU-"
      }
    },
    {
      "cell_type": "code",
      "source": [
        "# Hyperparameters\n",
        "batch_size = 128\n",
        "epochs = 30\n",
        "#model.compile(loss=\"categorical_crossentropy\", optimizer=\"adam\", metrics=[\"accuracy\"])\n",
        "model.compile(loss=\"mean_squared_error\", optimizer=\"adam\", metrics=[\"mean_squared_error\"])\n",
        "\n",
        "from sklearn.model_selection import train_test_split\n",
        "\n",
        "# Separate the test data\n",
        "X_train1, X_val, y_train1, y_val = train_test_split(X_train, y_train, test_size=0.2, shuffle=True)\n",
        "\n",
        "# model training\n",
        "history = model.fit(X_train1,\n",
        "                    y_train1,\n",
        "                    batch_size=batch_size,\n",
        "                    epochs=epochs,\n",
        "                    validation_data=(X_val, y_val),\n",
        "                    shuffle=True)\n",
        "\n"
      ],
      "metadata": {
        "colab": {
          "base_uri": "https://localhost:8080/"
        },
        "id": "NjGCZrCnB1om",
        "outputId": "91b12d60-3fef-42d5-8e44-eec214295a30"
      },
      "execution_count": 14,
      "outputs": [
        {
          "output_type": "stream",
          "name": "stdout",
          "text": [
            "Epoch 1/30\n",
            "375/375 [==============================] - 3s 5ms/step - loss: 3.8799 - mean_squared_error: 3.8799 - val_loss: 2.0148 - val_mean_squared_error: 2.0148\n",
            "Epoch 2/30\n",
            "375/375 [==============================] - 2s 4ms/step - loss: 1.9104 - mean_squared_error: 1.9104 - val_loss: 1.6339 - val_mean_squared_error: 1.6339\n",
            "Epoch 3/30\n",
            "375/375 [==============================] - 2s 4ms/step - loss: 1.6260 - mean_squared_error: 1.6260 - val_loss: 1.3772 - val_mean_squared_error: 1.3772\n",
            "Epoch 4/30\n",
            "375/375 [==============================] - 2s 4ms/step - loss: 1.4637 - mean_squared_error: 1.4637 - val_loss: 1.2183 - val_mean_squared_error: 1.2183\n",
            "Epoch 5/30\n",
            "375/375 [==============================] - 2s 5ms/step - loss: 1.3519 - mean_squared_error: 1.3519 - val_loss: 1.1925 - val_mean_squared_error: 1.1925\n",
            "Epoch 6/30\n",
            "375/375 [==============================] - 2s 5ms/step - loss: 1.2774 - mean_squared_error: 1.2774 - val_loss: 1.0876 - val_mean_squared_error: 1.0876\n",
            "Epoch 7/30\n",
            "375/375 [==============================] - 2s 4ms/step - loss: 1.2199 - mean_squared_error: 1.2199 - val_loss: 1.0106 - val_mean_squared_error: 1.0106\n",
            "Epoch 8/30\n",
            "375/375 [==============================] - 2s 4ms/step - loss: 1.1542 - mean_squared_error: 1.1542 - val_loss: 0.9722 - val_mean_squared_error: 0.9722\n",
            "Epoch 9/30\n",
            "375/375 [==============================] - 2s 4ms/step - loss: 1.1412 - mean_squared_error: 1.1412 - val_loss: 0.9386 - val_mean_squared_error: 0.9386\n",
            "Epoch 10/30\n",
            "375/375 [==============================] - 2s 4ms/step - loss: 1.0910 - mean_squared_error: 1.0910 - val_loss: 0.9219 - val_mean_squared_error: 0.9219\n",
            "Epoch 11/30\n",
            "375/375 [==============================] - 2s 4ms/step - loss: 1.0628 - mean_squared_error: 1.0628 - val_loss: 0.8922 - val_mean_squared_error: 0.8922\n",
            "Epoch 12/30\n",
            "375/375 [==============================] - 2s 5ms/step - loss: 1.0189 - mean_squared_error: 1.0189 - val_loss: 0.9088 - val_mean_squared_error: 0.9088\n",
            "Epoch 13/30\n",
            "375/375 [==============================] - 2s 6ms/step - loss: 0.9987 - mean_squared_error: 0.9987 - val_loss: 0.8535 - val_mean_squared_error: 0.8535\n",
            "Epoch 14/30\n",
            "375/375 [==============================] - 2s 4ms/step - loss: 0.9826 - mean_squared_error: 0.9826 - val_loss: 0.8766 - val_mean_squared_error: 0.8766\n",
            "Epoch 15/30\n",
            "375/375 [==============================] - 2s 4ms/step - loss: 0.9570 - mean_squared_error: 0.9570 - val_loss: 0.8072 - val_mean_squared_error: 0.8072\n",
            "Epoch 16/30\n",
            "375/375 [==============================] - 2s 4ms/step - loss: 0.9374 - mean_squared_error: 0.9374 - val_loss: 0.8152 - val_mean_squared_error: 0.8152\n",
            "Epoch 17/30\n",
            "375/375 [==============================] - 2s 5ms/step - loss: 0.9288 - mean_squared_error: 0.9288 - val_loss: 0.8336 - val_mean_squared_error: 0.8336\n",
            "Epoch 18/30\n",
            "375/375 [==============================] - 2s 4ms/step - loss: 0.9127 - mean_squared_error: 0.9127 - val_loss: 0.9461 - val_mean_squared_error: 0.9461\n",
            "Epoch 19/30\n",
            "375/375 [==============================] - 2s 4ms/step - loss: 0.9107 - mean_squared_error: 0.9107 - val_loss: 0.7853 - val_mean_squared_error: 0.7853\n",
            "Epoch 20/30\n",
            "375/375 [==============================] - 2s 6ms/step - loss: 0.8806 - mean_squared_error: 0.8806 - val_loss: 0.7587 - val_mean_squared_error: 0.7587\n",
            "Epoch 21/30\n",
            "375/375 [==============================] - 2s 4ms/step - loss: 0.8803 - mean_squared_error: 0.8803 - val_loss: 0.7573 - val_mean_squared_error: 0.7573\n",
            "Epoch 22/30\n",
            "375/375 [==============================] - 2s 4ms/step - loss: 0.8692 - mean_squared_error: 0.8692 - val_loss: 0.7440 - val_mean_squared_error: 0.7440\n",
            "Epoch 23/30\n",
            "375/375 [==============================] - 2s 4ms/step - loss: 0.8542 - mean_squared_error: 0.8542 - val_loss: 0.7421 - val_mean_squared_error: 0.7421\n",
            "Epoch 24/30\n",
            "375/375 [==============================] - 2s 4ms/step - loss: 0.8433 - mean_squared_error: 0.8433 - val_loss: 0.7311 - val_mean_squared_error: 0.7311\n",
            "Epoch 25/30\n",
            "375/375 [==============================] - 2s 4ms/step - loss: 0.8366 - mean_squared_error: 0.8366 - val_loss: 0.7824 - val_mean_squared_error: 0.7824\n",
            "Epoch 26/30\n",
            "375/375 [==============================] - 2s 4ms/step - loss: 0.8256 - mean_squared_error: 0.8256 - val_loss: 0.7372 - val_mean_squared_error: 0.7372\n",
            "Epoch 27/30\n",
            "375/375 [==============================] - 2s 6ms/step - loss: 0.8192 - mean_squared_error: 0.8192 - val_loss: 0.7184 - val_mean_squared_error: 0.7184\n",
            "Epoch 28/30\n",
            "375/375 [==============================] - 2s 4ms/step - loss: 0.8065 - mean_squared_error: 0.8065 - val_loss: 0.7307 - val_mean_squared_error: 0.7307\n",
            "Epoch 29/30\n",
            "375/375 [==============================] - 2s 4ms/step - loss: 0.8047 - mean_squared_error: 0.8047 - val_loss: 0.7183 - val_mean_squared_error: 0.7183\n",
            "Epoch 30/30\n",
            "375/375 [==============================] - 2s 4ms/step - loss: 0.7979 - mean_squared_error: 0.7979 - val_loss: 0.7067 - val_mean_squared_error: 0.7067\n"
          ]
        }
      ]
    },
    {
      "cell_type": "markdown",
      "source": [
        "# Avaliação do modelo"
      ],
      "metadata": {
        "id": "FKVZ0Qv3B7VM"
      }
    },
    {
      "cell_type": "code",
      "source": [
        "score = model.evaluate(X_test, y_test, verbose=0)\n",
        "print(\"Test loss:\", score[0])\n",
        "#print(\"Test accuracy:\", score[1])"
      ],
      "metadata": {
        "colab": {
          "base_uri": "https://localhost:8080/"
        },
        "id": "93rbD4IkB9GM",
        "outputId": "862f3b3c-ba31-4058-d767-8f98615addc6"
      },
      "execution_count": 15,
      "outputs": [
        {
          "output_type": "stream",
          "name": "stdout",
          "text": [
            "Test loss: 0.6886207461357117\n"
          ]
        }
      ]
    },
    {
      "cell_type": "code",
      "source": [
        "plt.figure()\n",
        "plt.plot(history.epoch, history.history['val_loss'], 'o-r', label=\"Validação\")\n",
        "plt.plot(history.epoch, history.history['loss'],',-y', label=\"Treinamento\")\n",
        "plt.title(\"Curva de aprendizado: Erro CNN\")\n",
        "plt.xlabel(\"Época\")\n",
        "plt.ylabel(\"Erro\")\n",
        "plt.legend()\n",
        "\n",
        "\"\"\"plt.figure()\n",
        "plt.plot(history.epoch, history.history['val_accuracy'], 'o-r', label=\"Validação\")\n",
        "plt.plot(history.epoch, history.history['accuracy'],',-y', label=\"Treinamento\")\n",
        "plt.title(\"Curva de aprendizado: Erro CNN\")\n",
        "plt.xlabel(\"Época\")\n",
        "plt.ylabel(\"Erro\")\n",
        "plt.legend()\"\"\"\n",
        "\n",
        "plt.show()"
      ],
      "metadata": {
        "colab": {
          "base_uri": "https://localhost:8080/",
          "height": 474
        },
        "id": "MwEf2ePdCBn2",
        "outputId": "a7c535fe-8198-4e21-80b1-001d50f24a58"
      },
      "execution_count": 16,
      "outputs": [
        {
          "output_type": "display_data",
          "data": {
            "text/plain": [
              "<Figure size 640x480 with 1 Axes>"
            ],
            "image/png": "[encoded data removed]"
          },
          "metadata": {}
        }
      ]
    },
    {
      "cell_type": "code",
      "source": [
        "predictions = model.predict(X_test)"
      ],
      "metadata": {
        "colab": {
          "base_uri": "https://localhost:8080/"
        },
        "id": "MXWAxa_7GkDL",
        "outputId": "2cea4643-47d2-4906-c652-7c9699c9081e"
      },
      "execution_count": 17,
      "outputs": [
        {
          "output_type": "stream",
          "name": "stdout",
          "text": [
            "313/313 [==============================] - 1s 2ms/step\n"
          ]
        }
      ]
    },
    {
      "cell_type": "code",
      "source": [
        "predictions[0].shape"
      ],
      "metadata": {
        "id": "i58AbZ7qLf6B",
        "outputId": "3550dc6a-bfd1-40ab-d5d1-89b4f3cb9f37",
        "colab": {
          "base_uri": "https://localhost:8080/"
        }
      },
      "execution_count": 18,
      "outputs": [
        {
          "output_type": "execute_result",
          "data": {
            "text/plain": [
              "(1,)"
            ]
          },
          "metadata": {},
          "execution_count": 18
        }
      ]
    },
    {
      "cell_type": "code",
      "source": [
        "predictions[0].round().clip(0,9)"
      ],
      "metadata": {
        "colab": {
          "base_uri": "https://localhost:8080/"
        },
        "id": "cwHQ8zXDGv2d",
        "outputId": "7c0a6dbb-e7df-4b83-dfad-e5d592a8d0c7"
      },
      "execution_count": 19,
      "outputs": [
        {
          "output_type": "execute_result",
          "data": {
            "text/plain": [
              "array([7.], dtype=float32)"
            ]
          },
          "metadata": {},
          "execution_count": 19
        }
      ]
    }
  ]
}