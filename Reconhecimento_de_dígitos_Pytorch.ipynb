{
  "nbformat": 4,
  "nbformat_minor": 0,
  "metadata": {
    "colab": {
      "provenance": [],
      "authorship_tag": "ABX9TyOfcJG9X5klDiDJYbQ/6xT+",
      "include_colab_link": true
    },
    "kernelspec": {
      "name": "python3",
      "display_name": "Python 3"
    },
    "language_info": {
      "name": "python"
    },
    "accelerator": "GPU",
    "gpuClass": "standard"
  },
  "cells": [
    {
      "cell_type": "markdown",
      "metadata": {
        "id": "view-in-github",
        "colab_type": "text"
      },
      "source": [
        "<a href=\"https://colab.research.google.com/github/louisestella/deepLearning/blob/main/Reconhecimento_de_d%C3%ADgitos_Pytorch.ipynb\" target=\"_parent\"><img src=\"https://colab.research.google.com/assets/colab-badge.svg\" alt=\"Open In Colab\"/></a>"
      ]
    },
    {
      "cell_type": "markdown",
      "source": [
        "**UFRN** - Departamento de Informática e Matemática Aplicada\n",
        "\n",
        "Inteligência Artificial - **Aprendizado Profundo**\n",
        "\n",
        "**Disciplina:** DIM0494 - *Tópicos Especiais em Computação XV*\n",
        "\n",
        "**Professor:** Ranniery Maia\n",
        "\n",
        "**Aluna:** Louise Stella Lima Barbosa\n",
        "\n",
        "\n",
        "# Tarefa  - Regressão\n",
        "\n",
        "\n",
        "\n",
        "\n",
        "*Tarefa de reconhecimento de dígitos escritos usando técnicas de regressão.*\n",
        "\n",
        "*Usando a base de dados de dígitos escritos MNIST e a biblioteca scikit-learn, pede-se:*\n",
        "\n",
        "*Implemente um modelo para reconhecer dígitos escritos.*\n",
        "\n",
        "\n",
        "\n",
        "*MNIST dataset:* [The MNIST DATABASE of handwritten digits](http://yann.lecun.com/exdb/mnist/)  |  [keggle](https://www.kaggle.com/datasets/hojjatk/mnist-dataset)"
      ],
      "metadata": {
        "id": "Ca4UoP6P97WS"
      }
    },
    {
      "cell_type": "code",
      "execution_count": 1,
      "metadata": {
        "id": "I0fPEXrX9okQ"
      },
      "outputs": [],
      "source": [
        "import torch"
      ]
    },
    {
      "cell_type": "code",
      "source": [
        "device = torch.device('cuda' if torch.cuda.is_available() else 'cpu')\n",
        "device"
      ],
      "metadata": {
        "colab": {
          "base_uri": "https://localhost:8080/"
        },
        "id": "TOtSYfL6-dBB",
        "outputId": "a656b836-8c6e-4df9-bedd-85743f0cfaf8"
      },
      "execution_count": 2,
      "outputs": [
        {
          "output_type": "execute_result",
          "data": {
            "text/plain": [
              "device(type='cuda')"
            ]
          },
          "metadata": {},
          "execution_count": 2
        }
      ]
    },
    {
      "cell_type": "code",
      "source": [
        "from torchvision import datasets\n",
        "from torchvision.transforms import ToTensor"
      ],
      "metadata": {
        "id": "XvD-kILL-hVv"
      },
      "execution_count": 4,
      "outputs": []
    },
    {
      "cell_type": "code",
      "source": [
        "train_data = datasets.MNIST(\n",
        "    root = 'data',\n",
        "    train = True,                         \n",
        "    transform = ToTensor(), \n",
        "    download = True,            \n",
        ")\n",
        "test_data = datasets.MNIST(\n",
        "    root = 'data', \n",
        "    train = False, \n",
        "    transform = ToTensor()\n",
        ")"
      ],
      "metadata": {
        "colab": {
          "base_uri": "https://localhost:8080/"
        },
        "id": "mSgEvTwf-lC7",
        "outputId": "5f66766f-32b2-47f9-f8c2-f6d839e52dc6"
      },
      "execution_count": 5,
      "outputs": [
        {
          "output_type": "stream",
          "name": "stdout",
          "text": [
            "Downloading http://yann.lecun.com/exdb/mnist/train-images-idx3-ubyte.gz\n",
            "Downloading http://yann.lecun.com/exdb/mnist/train-images-idx3-ubyte.gz to data/MNIST/raw/train-images-idx3-ubyte.gz\n"
          ]
        },
        {
          "output_type": "stream",
          "name": "stderr",
          "text": [
            "100%|██████████| 9912422/9912422 [00:00<00:00, 371453815.83it/s]\n"
          ]
        },
        {
          "output_type": "stream",
          "name": "stdout",
          "text": [
            "Extracting data/MNIST/raw/train-images-idx3-ubyte.gz to data/MNIST/raw\n",
            "\n",
            "Downloading http://yann.lecun.com/exdb/mnist/train-labels-idx1-ubyte.gz\n",
            "Downloading http://yann.lecun.com/exdb/mnist/train-labels-idx1-ubyte.gz to data/MNIST/raw/train-labels-idx1-ubyte.gz\n"
          ]
        },
        {
          "output_type": "stream",
          "name": "stderr",
          "text": [
            "100%|██████████| 28881/28881 [00:00<00:00, 59702165.51it/s]\n"
          ]
        },
        {
          "output_type": "stream",
          "name": "stdout",
          "text": [
            "Extracting data/MNIST/raw/train-labels-idx1-ubyte.gz to data/MNIST/raw\n",
            "\n",
            "Downloading http://yann.lecun.com/exdb/mnist/t10k-images-idx3-ubyte.gz\n",
            "Downloading http://yann.lecun.com/exdb/mnist/t10k-images-idx3-ubyte.gz to data/MNIST/raw/t10k-images-idx3-ubyte.gz\n"
          ]
        },
        {
          "output_type": "stream",
          "name": "stderr",
          "text": [
            "100%|██████████| 1648877/1648877 [00:00<00:00, 111508866.30it/s]\n"
          ]
        },
        {
          "output_type": "stream",
          "name": "stdout",
          "text": [
            "Extracting data/MNIST/raw/t10k-images-idx3-ubyte.gz to data/MNIST/raw\n",
            "\n",
            "Downloading http://yann.lecun.com/exdb/mnist/t10k-labels-idx1-ubyte.gz\n",
            "Downloading http://yann.lecun.com/exdb/mnist/t10k-labels-idx1-ubyte.gz to data/MNIST/raw/t10k-labels-idx1-ubyte.gz\n"
          ]
        },
        {
          "output_type": "stream",
          "name": "stderr",
          "text": [
            "100%|██████████| 4542/4542 [00:00<00:00, 20331407.44it/s]\n"
          ]
        },
        {
          "output_type": "stream",
          "name": "stdout",
          "text": [
            "Extracting data/MNIST/raw/t10k-labels-idx1-ubyte.gz to data/MNIST/raw\n",
            "\n"
          ]
        }
      ]
    },
    {
      "cell_type": "code",
      "source": [
        "print(train_data)"
      ],
      "metadata": {
        "colab": {
          "base_uri": "https://localhost:8080/"
        },
        "id": "fX7Umc_l-pCn",
        "outputId": "d3f05da1-273f-4d41-9dce-c23e29ec2391"
      },
      "execution_count": 6,
      "outputs": [
        {
          "output_type": "stream",
          "name": "stdout",
          "text": [
            "Dataset MNIST\n",
            "    Number of datapoints: 60000\n",
            "    Root location: data\n",
            "    Split: Train\n",
            "    StandardTransform\n",
            "Transform: ToTensor()\n"
          ]
        }
      ]
    },
    {
      "cell_type": "code",
      "source": [
        "print(test_data)"
      ],
      "metadata": {
        "colab": {
          "base_uri": "https://localhost:8080/"
        },
        "id": "qedB5kiH-sa9",
        "outputId": "19801bb9-f984-4f36-e2d0-b36f56641e16"
      },
      "execution_count": 7,
      "outputs": [
        {
          "output_type": "stream",
          "name": "stdout",
          "text": [
            "Dataset MNIST\n",
            "    Number of datapoints: 10000\n",
            "    Root location: data\n",
            "    Split: Test\n",
            "    StandardTransform\n",
            "Transform: ToTensor()\n"
          ]
        }
      ]
    },
    {
      "cell_type": "code",
      "source": [
        "print(train_data.data.size())"
      ],
      "metadata": {
        "colab": {
          "base_uri": "https://localhost:8080/"
        },
        "id": "UnuzVuPN-vMj",
        "outputId": "eae6b2e4-9ea1-4023-f47a-abb6b8f14899"
      },
      "execution_count": 8,
      "outputs": [
        {
          "output_type": "stream",
          "name": "stdout",
          "text": [
            "torch.Size([60000, 28, 28])\n"
          ]
        }
      ]
    },
    {
      "cell_type": "code",
      "source": [
        "print(train_data.targets.size())"
      ],
      "metadata": {
        "colab": {
          "base_uri": "https://localhost:8080/"
        },
        "id": "arblmmqX-yU4",
        "outputId": "5dc8049a-f4fa-42ee-928c-5ecfe5c4ebb2"
      },
      "execution_count": 9,
      "outputs": [
        {
          "output_type": "stream",
          "name": "stdout",
          "text": [
            "torch.Size([60000])\n"
          ]
        }
      ]
    },
    {
      "cell_type": "code",
      "source": [
        "import matplotlib.pyplot as plt\n",
        "plt.imshow(train_data.data[0], cmap='gray')\n",
        "plt.title('%i' % train_data.targets[0])\n",
        "plt.show()"
      ],
      "metadata": {
        "colab": {
          "base_uri": "https://localhost:8080/",
          "height": 452
        },
        "id": "Cz0oddgD-1B2",
        "outputId": "62e66bd5-a53c-4f75-ebc9-e0c9b46ce1e3"
      },
      "execution_count": 10,
      "outputs": [
        {
          "output_type": "display_data",
          "data": {
            "text/plain": [
              "<Figure size 640x480 with 1 Axes>"
            ],
            "image/png": "[encoded data removed]"
          },
          "metadata": {}
        }
      ]
    },
    {
      "cell_type": "code",
      "source": [
        "figure = plt.figure(figsize=(10, 8))\n",
        "cols, rows = 5, 5\n",
        "for i in range(1, cols * rows + 1):\n",
        "    sample_idx = torch.randint(len(train_data), size=(1,)).item()\n",
        "    img, label = train_data[sample_idx]\n",
        "    figure.add_subplot(rows, cols, i)\n",
        "    plt.title(label)\n",
        "    plt.axis(\"off\")\n",
        "    plt.imshow(img.squeeze(), cmap=\"gray\")\n",
        "plt.show()"
      ],
      "metadata": {
        "colab": {
          "base_uri": "https://localhost:8080/",
          "height": 675
        },
        "id": "QuqukaPU-4DD",
        "outputId": "cd379433-f514-4406-aec3-78d4148e3829"
      },
      "execution_count": 11,
      "outputs": [
        {
          "output_type": "display_data",
          "data": {
            "text/plain": [
              "<Figure size 1000x800 with 25 Axes>"
            ],
            "image/png": "[encoded data removed]"
          },
          "metadata": {}
        }
      ]
    },
    {
      "cell_type": "code",
      "source": [
        "from torch.utils.data import DataLoader\n",
        "loaders = {\n",
        "    'train' : torch.utils.data.DataLoader(train_data, \n",
        "                                          batch_size=100, \n",
        "                                          shuffle=True, \n",
        "                                          num_workers=1),\n",
        "    \n",
        "    'test'  : torch.utils.data.DataLoader(test_data, \n",
        "                                          batch_size=100, \n",
        "                                          shuffle=True, \n",
        "                                          num_workers=1),\n",
        "}\n",
        "loaders"
      ],
      "metadata": {
        "colab": {
          "base_uri": "https://localhost:8080/"
        },
        "id": "STCyAdTp-8U-",
        "outputId": "f99a8b35-dad1-44c2-a80c-91d30a547d23"
      },
      "execution_count": 12,
      "outputs": [
        {
          "output_type": "execute_result",
          "data": {
            "text/plain": [
              "{'train': <torch.utils.data.dataloader.DataLoader at 0x7f6377536940>,\n",
              " 'test': <torch.utils.data.dataloader.DataLoader at 0x7f6377536a90>}"
            ]
          },
          "metadata": {},
          "execution_count": 12
        }
      ]
    },
    {
      "cell_type": "code",
      "source": [
        "\n",
        "\n",
        "import torch.nn as nn\n",
        "class CNN(nn.Module):\n",
        "    def __init__(self):\n",
        "        super(CNN, self).__init__()\n",
        "        self.conv1 = nn.Sequential(         \n",
        "            nn.Conv2d(\n",
        "                in_channels=1,              \n",
        "                out_channels=16,            \n",
        "                kernel_size=5,              \n",
        "                stride=1,                   \n",
        "                padding=2,                  \n",
        "            ),                              \n",
        "            nn.ReLU(),                      \n",
        "            nn.MaxPool2d(kernel_size=2),    \n",
        "        )\n",
        "        self.conv2 = nn.Sequential(         \n",
        "            nn.Conv2d(16, 32, 5, 1, 2),     \n",
        "            nn.ReLU(),                      \n",
        "            nn.MaxPool2d(2),                \n",
        "        )\n",
        "        # fully connected layer, output 10 classes\n",
        "        self.out = nn.Linear(32 * 7 * 7, 10)\n",
        "    def forward(self, x):\n",
        "        x = self.conv1(x)\n",
        "        x = self.conv2(x)\n",
        "        # flatten the output of conv2 to (batch_size, 32 * 7 * 7)\n",
        "        x = x.view(x.size(0), -1)       \n",
        "        output = self.out(x)\n",
        "        return output, x    # return x for visualization\n",
        "\n"
      ],
      "metadata": {
        "id": "2tyPGVFP-_zY"
      },
      "execution_count": 13,
      "outputs": []
    },
    {
      "cell_type": "code",
      "source": [
        "\n",
        "\n",
        "cnn = CNN()\n",
        "print(cnn)\n",
        "\n"
      ],
      "metadata": {
        "colab": {
          "base_uri": "https://localhost:8080/"
        },
        "id": "H2U068aT_Cal",
        "outputId": "b84f9eef-0535-4b6d-9f5e-fa0f3d7d04a5"
      },
      "execution_count": 14,
      "outputs": [
        {
          "output_type": "stream",
          "name": "stdout",
          "text": [
            "CNN(\n",
            "  (conv1): Sequential(\n",
            "    (0): Conv2d(1, 16, kernel_size=(5, 5), stride=(1, 1), padding=(2, 2))\n",
            "    (1): ReLU()\n",
            "    (2): MaxPool2d(kernel_size=2, stride=2, padding=0, dilation=1, ceil_mode=False)\n",
            "  )\n",
            "  (conv2): Sequential(\n",
            "    (0): Conv2d(16, 32, kernel_size=(5, 5), stride=(1, 1), padding=(2, 2))\n",
            "    (1): ReLU()\n",
            "    (2): MaxPool2d(kernel_size=2, stride=2, padding=0, dilation=1, ceil_mode=False)\n",
            "  )\n",
            "  (out): Linear(in_features=1568, out_features=10, bias=True)\n",
            ")\n"
          ]
        }
      ]
    },
    {
      "cell_type": "code",
      "source": [
        "loss_func = nn.CrossEntropyLoss()   \n",
        "loss_func"
      ],
      "metadata": {
        "colab": {
          "base_uri": "https://localhost:8080/"
        },
        "id": "igBk4nto_FpA",
        "outputId": "1211e22d-7b7d-4feb-98ba-d2fa3f31590e"
      },
      "execution_count": 15,
      "outputs": [
        {
          "output_type": "execute_result",
          "data": {
            "text/plain": [
              "CrossEntropyLoss()"
            ]
          },
          "metadata": {},
          "execution_count": 15
        }
      ]
    },
    {
      "cell_type": "code",
      "source": [
        "from torch import optim\n",
        "optimizer = optim.Adam(cnn.parameters(), lr = 0.01)   \n",
        "optimizer"
      ],
      "metadata": {
        "colab": {
          "base_uri": "https://localhost:8080/"
        },
        "id": "tL_cJJAg_Io2",
        "outputId": "2cf2e685-a1e6-4ccc-ded8-765d5d6551fc"
      },
      "execution_count": 16,
      "outputs": [
        {
          "output_type": "execute_result",
          "data": {
            "text/plain": [
              "Adam (\n",
              "Parameter Group 0\n",
              "    amsgrad: False\n",
              "    betas: (0.9, 0.999)\n",
              "    capturable: False\n",
              "    differentiable: False\n",
              "    eps: 1e-08\n",
              "    foreach: None\n",
              "    fused: None\n",
              "    lr: 0.01\n",
              "    maximize: False\n",
              "    weight_decay: 0\n",
              ")"
            ]
          },
          "metadata": {},
          "execution_count": 16
        }
      ]
    },
    {
      "cell_type": "code",
      "source": [
        "\n",
        "\n",
        "from torch.autograd import Variable\n",
        "num_epochs = 10\n",
        "def train(num_epochs, cnn, loaders):\n",
        "    \n",
        "    cnn.train()\n",
        "        \n",
        "    # Train the model\n",
        "    total_step = len(loaders['train'])\n",
        "        \n",
        "    for epoch in range(num_epochs):\n",
        "        for i, (images, labels) in enumerate(loaders['train']):\n",
        "            \n",
        "            # gives batch data, normalize x when iterate train_loader\n",
        "            b_x = Variable(images)   # batch x\n",
        "            b_y = Variable(labels)   # batch y\n",
        "            output = cnn(b_x)[0]               \n",
        "            loss = loss_func(output, b_y)\n",
        "            \n",
        "            # clear gradients for this training step   \n",
        "            optimizer.zero_grad()           \n",
        "            \n",
        "            # backpropagation, compute gradients \n",
        "            loss.backward()    \n",
        "            # apply gradients             \n",
        "            optimizer.step()                \n",
        "            \n",
        "            if (i+1) % 100 == 0:\n",
        "                print ('Epoch [{}/{}], Step [{}/{}], Loss: {:.4f}' \n",
        "                       .format(epoch + 1, num_epochs, i + 1, total_step, loss.item()))\n",
        "            pass\n",
        "        pass\n",
        "    pass\n",
        "train(num_epochs, cnn, loaders)\n",
        "\n"
      ],
      "metadata": {
        "colab": {
          "base_uri": "https://localhost:8080/"
        },
        "id": "BjUhcstZ_Lo1",
        "outputId": "7359a7ab-03ed-45d6-cda0-1d84bbc2fc4a"
      },
      "execution_count": 17,
      "outputs": [
        {
          "output_type": "stream",
          "name": "stdout",
          "text": [
            "Epoch [1/10], Step [100/600], Loss: 0.1610\n",
            "Epoch [1/10], Step [200/600], Loss: 0.1179\n",
            "Epoch [1/10], Step [300/600], Loss: 0.0469\n",
            "Epoch [1/10], Step [400/600], Loss: 0.1456\n",
            "Epoch [1/10], Step [500/600], Loss: 0.1155\n",
            "Epoch [1/10], Step [600/600], Loss: 0.0870\n",
            "Epoch [2/10], Step [100/600], Loss: 0.0205\n",
            "Epoch [2/10], Step [200/600], Loss: 0.0470\n",
            "Epoch [2/10], Step [300/600], Loss: 0.1241\n",
            "Epoch [2/10], Step [400/600], Loss: 0.0203\n",
            "Epoch [2/10], Step [500/600], Loss: 0.2083\n",
            "Epoch [2/10], Step [600/600], Loss: 0.1267\n",
            "Epoch [3/10], Step [100/600], Loss: 0.0456\n",
            "Epoch [3/10], Step [200/600], Loss: 0.1039\n",
            "Epoch [3/10], Step [300/600], Loss: 0.0670\n",
            "Epoch [3/10], Step [400/600], Loss: 0.0328\n",
            "Epoch [3/10], Step [500/600], Loss: 0.1739\n",
            "Epoch [3/10], Step [600/600], Loss: 0.1787\n",
            "Epoch [4/10], Step [100/600], Loss: 0.0346\n",
            "Epoch [4/10], Step [200/600], Loss: 0.0977\n",
            "Epoch [4/10], Step [300/600], Loss: 0.0370\n",
            "Epoch [4/10], Step [400/600], Loss: 0.0457\n",
            "Epoch [4/10], Step [500/600], Loss: 0.0394\n",
            "Epoch [4/10], Step [600/600], Loss: 0.0371\n",
            "Epoch [5/10], Step [100/600], Loss: 0.0574\n",
            "Epoch [5/10], Step [200/600], Loss: 0.0039\n",
            "Epoch [5/10], Step [300/600], Loss: 0.0495\n",
            "Epoch [5/10], Step [400/600], Loss: 0.0550\n",
            "Epoch [5/10], Step [500/600], Loss: 0.0279\n",
            "Epoch [5/10], Step [600/600], Loss: 0.0113\n",
            "Epoch [6/10], Step [100/600], Loss: 0.0122\n",
            "Epoch [6/10], Step [200/600], Loss: 0.0659\n",
            "Epoch [6/10], Step [300/600], Loss: 0.1773\n",
            "Epoch [6/10], Step [400/600], Loss: 0.0679\n",
            "Epoch [6/10], Step [500/600], Loss: 0.0995\n",
            "Epoch [6/10], Step [600/600], Loss: 0.0050\n",
            "Epoch [7/10], Step [100/600], Loss: 0.0206\n",
            "Epoch [7/10], Step [200/600], Loss: 0.0292\n",
            "Epoch [7/10], Step [300/600], Loss: 0.0714\n",
            "Epoch [7/10], Step [400/600], Loss: 0.0034\n",
            "Epoch [7/10], Step [500/600], Loss: 0.0328\n",
            "Epoch [7/10], Step [600/600], Loss: 0.0072\n",
            "Epoch [8/10], Step [100/600], Loss: 0.0879\n",
            "Epoch [8/10], Step [200/600], Loss: 0.0380\n",
            "Epoch [8/10], Step [300/600], Loss: 0.0082\n",
            "Epoch [8/10], Step [400/600], Loss: 0.0033\n",
            "Epoch [8/10], Step [500/600], Loss: 0.0141\n",
            "Epoch [8/10], Step [600/600], Loss: 0.0989\n",
            "Epoch [9/10], Step [100/600], Loss: 0.0592\n",
            "Epoch [9/10], Step [200/600], Loss: 0.0793\n",
            "Epoch [9/10], Step [300/600], Loss: 0.0405\n",
            "Epoch [9/10], Step [400/600], Loss: 0.1077\n",
            "Epoch [9/10], Step [500/600], Loss: 0.0103\n",
            "Epoch [9/10], Step [600/600], Loss: 0.1250\n",
            "Epoch [10/10], Step [100/600], Loss: 0.0185\n",
            "Epoch [10/10], Step [200/600], Loss: 0.0617\n",
            "Epoch [10/10], Step [300/600], Loss: 0.0250\n",
            "Epoch [10/10], Step [400/600], Loss: 0.0223\n",
            "Epoch [10/10], Step [500/600], Loss: 0.0051\n",
            "Epoch [10/10], Step [600/600], Loss: 0.0120\n"
          ]
        }
      ]
    },
    {
      "cell_type": "code",
      "source": [
        "def test():\n",
        "    # Test the model\n",
        "    cnn.eval()\n",
        "    with torch.no_grad():\n",
        "        correct = 0\n",
        "        total = 0\n",
        "        for images, labels in loaders['test']:\n",
        "            test_output, last_layer = cnn(images)\n",
        "            pred_y = torch.max(test_output, 1)[1].data.squeeze()\n",
        "            accuracy = (pred_y == labels).sum().item() / float(labels.size(0))\n",
        "        pass\n",
        "        print('Test Accuracy of the model on the 10000 test images: %.2f' % accuracy)\n",
        "    pass\n",
        "test()\n"
      ],
      "metadata": {
        "colab": {
          "base_uri": "https://localhost:8080/"
        },
        "id": "6IqJQ3Zu_PN5",
        "outputId": "d7a675ec-2dc4-4381-8fb5-1059a6c09ac2"
      },
      "execution_count": 18,
      "outputs": [
        {
          "output_type": "stream",
          "name": "stdout",
          "text": [
            "Test Accuracy of the model on the 10000 test images: 0.99\n"
          ]
        }
      ]
    },
    {
      "cell_type": "code",
      "source": [
        "\n",
        "\n",
        "sample = next(iter(loaders['test']))\n",
        "imgs, lbls = sample\n",
        "\n"
      ],
      "metadata": {
        "id": "YGmvUDA2_RMZ"
      },
      "execution_count": 19,
      "outputs": []
    },
    {
      "cell_type": "code",
      "source": [
        "\n",
        "\n",
        "actual_number = lbls[:10].numpy()\n",
        "actual_number\n",
        "\n"
      ],
      "metadata": {
        "colab": {
          "base_uri": "https://localhost:8080/"
        },
        "id": "DAEVebHD_TC9",
        "outputId": "e42f4cd7-ebaa-4aa8-f46e-41b42218a69a"
      },
      "execution_count": 20,
      "outputs": [
        {
          "output_type": "execute_result",
          "data": {
            "text/plain": [
              "array([9, 0, 2, 5, 3, 2, 5, 4, 4, 2])"
            ]
          },
          "metadata": {},
          "execution_count": 20
        }
      ]
    },
    {
      "cell_type": "code",
      "source": [
        "test_output, last_layer = cnn(imgs[:10])\n",
        "pred_y = torch.max(test_output, 1)[1].data.numpy().squeeze()\n",
        "print(f'Prediction number: {pred_y}')\n",
        "print(f'Actual number: {actual_number}')"
      ],
      "metadata": {
        "colab": {
          "base_uri": "https://localhost:8080/"
        },
        "id": "hAWhb9xp_VSt",
        "outputId": "864ea9aa-45bc-4426-fc84-68d322842a41"
      },
      "execution_count": 21,
      "outputs": [
        {
          "output_type": "stream",
          "name": "stdout",
          "text": [
            "Prediction number: [9 0 2 5 3 2 5 4 4 2]\n",
            "Actual number: [9 0 2 5 3 2 5 4 4 2]\n"
          ]
        }
      ]
    }
  ]
}