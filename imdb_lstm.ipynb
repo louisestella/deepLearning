{
  "nbformat": 4,
  "nbformat_minor": 0,
  "metadata": {
    "colab": {
      "provenance": [],
      "authorship_tag": "ABX9TyM+LM1hessXNC9fd8rBq1aD",
      "include_colab_link": true
    },
    "kernelspec": {
      "name": "python3",
      "display_name": "Python 3"
    },
    "language_info": {
      "name": "python"
    },
    "accelerator": "GPU",
    "gpuClass": "standard"
  },
  "cells": [
    {
      "cell_type": "markdown",
      "metadata": {
        "id": "view-in-github",
        "colab_type": "text"
      },
      "source": [
        "<a href=\"https://colab.research.google.com/github/louisestella/deepLearning/blob/main/imdb_lstm.ipynb\" target=\"_parent\"><img src=\"https://colab.research.google.com/assets/colab-badge.svg\" alt=\"Open In Colab\"/></a>"
      ]
    },
    {
      "cell_type": "markdown",
      "source": [
        "**UFRN** - Departamento de Informática e Matemática Aplicada\n",
        "\n",
        "Inteligência Artificial - **Aprendizado Profundo**\n",
        "\n",
        "**Disciplina:** DIM0494 - *Tópicos Especiais em Computação XV*\n",
        "\n",
        "**Professor:** Ranniery Maia\n",
        "\n",
        "**Aluna:** Louise Stella Lima Barbosa\n",
        "\n",
        "\n",
        "# Aula 08 - Long Short Term Memory (LSTM)"
      ],
      "metadata": {
        "id": "shWAukjVVJCC"
      }
    },
    {
      "cell_type": "code",
      "execution_count": 1,
      "metadata": {
        "id": "Vwj6J3cZRhRa"
      },
      "outputs": [],
      "source": [
        "\n",
        "\n",
        "import argparse, os\n",
        "import numpy as np\n",
        "import pandas as pd\n",
        "import matplotlib.pyplot as plt\n",
        "from tensorflow import keras\n",
        "from tensorflow.keras.datasets import imdb\n",
        "from tensorflow.keras import models, layers, optimizers, losses, metrics\n",
        "from tensorflow.keras.callbacks import ModelCheckpoint, EarlyStopping, TensorBoard\n",
        "\n"
      ]
    },
    {
      "cell_type": "code",
      "source": [
        "# constants and hyperparameters\n",
        "MAX_WORD_INDEX = 10000\n",
        "\n",
        "BATCH_SIZE = 128\n",
        "NUM_EPOCHS = 20\n",
        "LR = 0.001\n",
        "BETA1 = 0.9\n",
        "BETA2 = 0.999\n",
        "EPSILON = 1.0e-8\n",
        "DECAY = 0.0\n",
        "VAL_PERC = 0.4\n",
        "\n",
        "EMBEDDING_DIM = 64\n",
        "NUM_LSTM_UNITS = 32\n",
        "DROPOUT_RATE = 0.5"
      ],
      "metadata": {
        "id": "eTABrUhsR4GC"
      },
      "execution_count": 2,
      "outputs": []
    },
    {
      "cell_type": "code",
      "source": [
        "# load database using Keras\n",
        "(train_data, train_labels), (test_data, test_labels) = imdb.load_data(num_words = MAX_WORD_INDEX)"
      ],
      "metadata": {
        "colab": {
          "base_uri": "https://localhost:8080/"
        },
        "id": "8wFf9_zMR5WX",
        "outputId": "36b5b11e-42c6-4488-91d2-9735202f7f14"
      },
      "execution_count": 3,
      "outputs": [
        {
          "output_type": "stream",
          "name": "stdout",
          "text": [
            "Downloading data from https://storage.googleapis.com/tensorflow/tf-keras-datasets/imdb.npz\n",
            "17464789/17464789 [==============================] - 0s 0us/step\n"
          ]
        }
      ]
    },
    {
      "cell_type": "code",
      "source": [
        "\n",
        "\n",
        "#  print some information on the data\n",
        "max_seq_len_train = max([len(sequence) for sequence in train_data])\n",
        "max_seq_len_test = max([len(sequence) for sequence in test_data])\n",
        "min_seq_len_train = min([len(sequence) for sequence in train_data])\n",
        "min_seq_len_test = min([len(sequence) for sequence in test_data])\n",
        "print(f'Maximum train sequence length: {max_seq_len_train}')\n",
        "print(f'Maximum test sequence length: {max_seq_len_test}')\n",
        "print(f'Minimum train sequence length: {min_seq_len_train}')\n",
        "print(f'Minimum test sequence length: {min_seq_len_test}')\n"
      ],
      "metadata": {
        "id": "EZK8QFmjSDUs",
        "outputId": "04cd1564-7ddc-4556-fe2b-9cf4d994946b",
        "colab": {
          "base_uri": "https://localhost:8080/"
        }
      },
      "execution_count": 4,
      "outputs": [
        {
          "output_type": "stream",
          "name": "stdout",
          "text": [
            "Maximum train sequence length: 2494\n",
            "Maximum test sequence length: 2315\n",
            "Minimum train sequence length: 11\n",
            "Minimum test sequence length: 7\n"
          ]
        }
      ]
    },
    {
      "cell_type": "code",
      "source": [
        "# randomly selects a sentence, look at the encoding and check its label\n",
        "word_index = imdb.get_word_index()\n",
        "\n",
        "ind = 33\n",
        "\n",
        "reverse_word_index = dict([(value, key) for (key, value) in word_index.items()])\n",
        "\n",
        "decoded_review = ' '.join([reverse_word_index.get(i-3, '?') for i in train_data[ind]])\n",
        "\n",
        "print(f'REVIEW:\\n {decoded_review}\\n')\n",
        "print(f'Encoded sequence of words:\\n {train_data[ind]}\\n')\n",
        "print(f'Label: {train_labels[ind]}\\n')"
      ],
      "metadata": {
        "id": "kcWXWdbeSOhB",
        "outputId": "3f8bb954-6192-4648-ee96-24d22f690aba",
        "colab": {
          "base_uri": "https://localhost:8080/"
        }
      },
      "execution_count": 5,
      "outputs": [
        {
          "output_type": "stream",
          "name": "stdout",
          "text": [
            "Downloading data from https://storage.googleapis.com/tensorflow/tf-keras-datasets/imdb_word_index.json\n",
            "1641221/1641221 [==============================] - 0s 0us/step\n",
            "REVIEW:\n",
            " ? i don't know what it is i find so endearing about this film but the first time i saw it i wanted to see how it ended i'm not a big fan of paul ? nor of war dramas but i was truly wondering just how and when ? would find his child all he knows is that the boy has green eyes truth be told i have not seen this movie in years nor has it been shown on tv in a while but this movie is somewhat of one man's odyssey after the pains of war ? shows a very sympathetic and heart warming portrayal of a man lost by his memories there is an underlying message in this movie that he is looking for the last shred of human morality in the aftermath of this war and the reality that he does confront why this movie is not yet on dvd or video is a mystery to me\n",
            "\n",
            "Encoded sequence of words:\n",
            " [1, 13, 92, 124, 51, 12, 9, 13, 169, 38, 3308, 44, 14, 22, 21, 4, 86, 58, 13, 219, 12, 13, 473, 8, 67, 89, 12, 1054, 146, 24, 6, 194, 337, 7, 723, 2, 885, 7, 325, 3287, 21, 13, 16, 371, 1535, 43, 89, 5, 54, 2, 62, 169, 27, 506, 32, 29, 694, 9, 15, 4, 430, 47, 1419, 523, 882, 30, 579, 13, 28, 24, 110, 14, 20, 11, 153, 885, 47, 12, 77, 617, 23, 248, 11, 6, 137, 21, 14, 20, 9, 643, 7, 31, 1601, 6761, 103, 4, 7154, 7, 325, 2, 287, 6, 55, 2259, 5, 483, 4051, 1146, 7, 6, 132, 416, 34, 27, 1883, 50, 9, 35, 5029, 749, 11, 14, 20, 15, 29, 9, 267, 18, 4, 236, 7778, 7, 406, 3696, 11, 4, 7032, 7, 14, 325, 5, 4, 635, 15, 29, 127, 6275, 138, 14, 20, 9, 24, 246, 23, 288, 42, 374, 9, 6, 736, 8, 72]\n",
            "\n",
            "Label: 1\n",
            "\n"
          ]
        }
      ]
    },
    {
      "cell_type": "code",
      "source": [
        "\n",
        "\n",
        "# pad sequences\n",
        "X_train = keras.preprocessing.sequence.pad_sequences(train_data)\n",
        "X_test = keras.preprocessing.sequence.pad_sequences(test_data)\n",
        "print(f'X_train shape: {X_train.shape}')\n",
        "print(f'X_test shape: {X_test.shape}')\n",
        "\n"
      ],
      "metadata": {
        "id": "WHpfsaACSPq9",
        "outputId": "89cce24c-1d13-4905-ccc9-2490872f4557",
        "colab": {
          "base_uri": "https://localhost:8080/"
        }
      },
      "execution_count": 6,
      "outputs": [
        {
          "output_type": "stream",
          "name": "stdout",
          "text": [
            "X_train shape: (25000, 2494)\n",
            "X_test shape: (25000, 2315)\n"
          ]
        }
      ]
    },
    {
      "cell_type": "code",
      "source": [
        "\n",
        "\n",
        "# transform labels  into arrays\n",
        "y_train = np.asarray(train_labels).astype('float32')\n",
        "y_test  = np.asarray(test_labels).astype('float32')\n",
        "print(f'y_train shape: {y_train.shape}')\n",
        "print(f'y_test shape: {y_test.shape}')\n",
        "\n"
      ],
      "metadata": {
        "id": "M1k1aIORSSAU",
        "outputId": "d2630e46-0e30-46a9-bbe9-e74b3581c5ab",
        "colab": {
          "base_uri": "https://localhost:8080/"
        }
      },
      "execution_count": 7,
      "outputs": [
        {
          "output_type": "stream",
          "name": "stdout",
          "text": [
            "y_train shape: (25000,)\n",
            "y_test shape: (25000,)\n"
          ]
        }
      ]
    },
    {
      "cell_type": "code",
      "source": [
        "\n",
        "\n",
        "# split training data into training and validation\n",
        "nsamples = X_train.shape[0]\n",
        "nval_samples = int(VAL_PERC * nsamples)\n",
        "X_val = X_train[:nval_samples]\n",
        "partial_X_train = X_train[nval_samples:]\n",
        "y_val = y_train[:nval_samples]\n",
        "partial_y_train = y_train[nval_samples:]\n",
        "\n"
      ],
      "metadata": {
        "id": "w_VV7qKMSV0z"
      },
      "execution_count": 8,
      "outputs": []
    },
    {
      "cell_type": "code",
      "source": [
        "\n",
        "\n",
        "# build model\n",
        "model = models.Sequential()\n",
        "model.add(layers.Embedding(MAX_WORD_INDEX, EMBEDDING_DIM))\n",
        "model.add(layers.LSTM(\n",
        "    units=NUM_LSTM_UNITS,\n",
        "    ))\n",
        "model.add(layers.Dropout(rate=DROPOUT_RATE))\n",
        "model.add(layers.Dense(1, activation='sigmoid'))\n",
        "print(model.summary())\n",
        "\n"
      ],
      "metadata": {
        "id": "hAF9IiwtSY06",
        "outputId": "cf853251-afa6-4d1b-aa82-a3f89255ea98",
        "colab": {
          "base_uri": "https://localhost:8080/"
        }
      },
      "execution_count": 9,
      "outputs": [
        {
          "output_type": "stream",
          "name": "stdout",
          "text": [
            "Model: \"sequential\"\n",
            "_________________________________________________________________\n",
            " Layer (type)                Output Shape              Param #   \n",
            "=================================================================\n",
            " embedding (Embedding)       (None, None, 64)          640000    \n",
            "                                                                 \n",
            " lstm (LSTM)                 (None, 32)                12416     \n",
            "                                                                 \n",
            " dropout (Dropout)           (None, 32)                0         \n",
            "                                                                 \n",
            " dense (Dense)               (None, 1)                 33        \n",
            "                                                                 \n",
            "=================================================================\n",
            "Total params: 652,449\n",
            "Trainable params: 652,449\n",
            "Non-trainable params: 0\n",
            "_________________________________________________________________\n",
            "None\n"
          ]
        }
      ]
    },
    {
      "cell_type": "code",
      "source": [
        "# set optimizer\n",
        "opt = optimizers.Adam(learning_rate=LR,\n",
        "                      beta_1=BETA1,\n",
        "                      beta_2=BETA2,\n",
        "                      epsilon=EPSILON,\n",
        "                      weight_decay=DECAY)\n",
        "\n",
        "# set loss and metrics\n",
        "loss = losses.binary_crossentropy\n",
        "met = [metrics.binary_accuracy]\n",
        "\n",
        "# compile model: optimization method, training criterion and metrics\n",
        "model.compile(\n",
        "    optimizer=opt,\n",
        "    loss=loss,\n",
        "    metrics=met\n",
        "    )\n",
        "\n"
      ],
      "metadata": {
        "id": "ZZdvXyl7SbfG"
      },
      "execution_count": 10,
      "outputs": []
    },
    {
      "cell_type": "code",
      "source": [
        "\n",
        "\n",
        "# early stop\n",
        "callbacks_list = [\n",
        "    EarlyStopping(\n",
        "        monitor='binary_accuracy',\n",
        "        patience=10),\n",
        "    ]\n",
        "\n"
      ],
      "metadata": {
        "id": "WA8NLdemSdjx"
      },
      "execution_count": 11,
      "outputs": []
    },
    {
      "cell_type": "code",
      "source": [
        "\n",
        "\n",
        "# train model\n",
        "history = model.fit(partial_X_train,\n",
        "                    partial_y_train,\n",
        "                    epochs=NUM_EPOCHS,\n",
        "                    batch_size=BATCH_SIZE,\n",
        "                    shuffle=True,\n",
        "                    validation_data=(X_val, y_val),\n",
        "                    callbacks=callbacks_list,\n",
        "                    verbose=1)\n",
        "\n"
      ],
      "metadata": {
        "id": "QZTJ1fgYSq4u",
        "outputId": "bddf390c-7253-40ab-dabc-6a356e854603",
        "colab": {
          "base_uri": "https://localhost:8080/"
        }
      },
      "execution_count": 12,
      "outputs": [
        {
          "output_type": "stream",
          "name": "stdout",
          "text": [
            "Epoch 1/20\n",
            "118/118 [==============================] - 40s 267ms/step - loss: 0.5942 - binary_accuracy: 0.7041 - val_loss: 0.3948 - val_binary_accuracy: 0.8410\n",
            "Epoch 2/20\n",
            "118/118 [==============================] - 27s 227ms/step - loss: 0.3427 - binary_accuracy: 0.8680 - val_loss: 0.3343 - val_binary_accuracy: 0.8626\n",
            "Epoch 3/20\n",
            "118/118 [==============================] - 25s 212ms/step - loss: 0.2372 - binary_accuracy: 0.9152 - val_loss: 0.3180 - val_binary_accuracy: 0.8798\n",
            "Epoch 4/20\n",
            "118/118 [==============================] - 22s 187ms/step - loss: 0.1632 - binary_accuracy: 0.9477 - val_loss: 0.3251 - val_binary_accuracy: 0.8690\n",
            "Epoch 5/20\n",
            "118/118 [==============================] - 19s 163ms/step - loss: 0.1196 - binary_accuracy: 0.9647 - val_loss: 0.3762 - val_binary_accuracy: 0.8745\n",
            "Epoch 6/20\n",
            "118/118 [==============================] - 20s 173ms/step - loss: 0.0972 - binary_accuracy: 0.9710 - val_loss: 0.4131 - val_binary_accuracy: 0.8687\n",
            "Epoch 7/20\n",
            "118/118 [==============================] - 16s 135ms/step - loss: 0.0642 - binary_accuracy: 0.9829 - val_loss: 0.4570 - val_binary_accuracy: 0.8643\n",
            "Epoch 8/20\n",
            "118/118 [==============================] - 15s 126ms/step - loss: 0.0597 - binary_accuracy: 0.9834 - val_loss: 0.5151 - val_binary_accuracy: 0.8532\n",
            "Epoch 9/20\n",
            "118/118 [==============================] - 19s 157ms/step - loss: 0.0597 - binary_accuracy: 0.9831 - val_loss: 0.5073 - val_binary_accuracy: 0.8629\n",
            "Epoch 10/20\n",
            "118/118 [==============================] - 15s 129ms/step - loss: 0.0649 - binary_accuracy: 0.9815 - val_loss: 0.5127 - val_binary_accuracy: 0.8453\n",
            "Epoch 11/20\n",
            "118/118 [==============================] - 14s 123ms/step - loss: 0.0872 - binary_accuracy: 0.9725 - val_loss: 0.5542 - val_binary_accuracy: 0.8570\n",
            "Epoch 12/20\n",
            "118/118 [==============================] - 13s 109ms/step - loss: 0.0419 - binary_accuracy: 0.9891 - val_loss: 0.6823 - val_binary_accuracy: 0.8465\n",
            "Epoch 13/20\n",
            "118/118 [==============================] - 18s 150ms/step - loss: 0.0373 - binary_accuracy: 0.9907 - val_loss: 0.6244 - val_binary_accuracy: 0.8575\n",
            "Epoch 14/20\n",
            "118/118 [==============================] - 14s 115ms/step - loss: 0.2152 - binary_accuracy: 0.9147 - val_loss: 0.4828 - val_binary_accuracy: 0.8571\n",
            "Epoch 15/20\n",
            "118/118 [==============================] - 13s 110ms/step - loss: 0.0529 - binary_accuracy: 0.9861 - val_loss: 0.5338 - val_binary_accuracy: 0.8587\n",
            "Epoch 16/20\n",
            "118/118 [==============================] - 13s 108ms/step - loss: 0.0316 - binary_accuracy: 0.9924 - val_loss: 0.6082 - val_binary_accuracy: 0.8580\n",
            "Epoch 17/20\n",
            "118/118 [==============================] - 12s 105ms/step - loss: 0.0235 - binary_accuracy: 0.9951 - val_loss: 0.6648 - val_binary_accuracy: 0.8593\n",
            "Epoch 18/20\n",
            "118/118 [==============================] - 12s 103ms/step - loss: 0.0174 - binary_accuracy: 0.9974 - val_loss: 0.6946 - val_binary_accuracy: 0.8571\n",
            "Epoch 19/20\n",
            "118/118 [==============================] - 12s 105ms/step - loss: 0.0234 - binary_accuracy: 0.9951 - val_loss: 0.6747 - val_binary_accuracy: 0.8520\n",
            "Epoch 20/20\n",
            "118/118 [==============================] - 13s 110ms/step - loss: 0.0182 - binary_accuracy: 0.9966 - val_loss: 0.7303 - val_binary_accuracy: 0.8585\n"
          ]
        }
      ]
    },
    {
      "cell_type": "code",
      "source": [
        "# learning curves\n",
        "history_dict = history.history\n",
        "history_dict.keys()\n",
        "\n",
        "# losses\n",
        "loss_values = history_dict['loss']\n",
        "val_loss_values = history_dict['val_loss']\n",
        "\n",
        "# accuracies\n",
        "acc_values = history_dict['binary_accuracy']\n",
        "val_acc_values = history_dict['val_binary_accuracy']\n",
        "\n",
        "epochs = range(NUM_EPOCHS)\n",
        "\n",
        "fig, (ax1, ax2) = plt.subplots(2,1, figsize=(8,8))\n",
        "\n",
        "ax1.plot(epochs, loss_values, 'bo', label=\"Training Loss\")\n",
        "ax1.plot(epochs, val_loss_values, 'b', label=\"Validation Loss\")\n",
        "ax1.set_title('Training and Validation Loss')\n",
        "ax1.set_xlabel('Epochs')\n",
        "ax1.set_ylabel('Loss Value')\n",
        "ax1.legend()\n",
        "\n",
        "ax2.plot(epochs, acc_values, 'ro', label=\"Training Accuracy\")\n",
        "ax2.plot(epochs, val_acc_values, 'r', label=\"Validation Accuracy\")\n",
        "ax2.set_title('Training and Validation Accuraccy')\n",
        "ax2.set_xlabel('Epochs')\n",
        "ax2.set_ylabel('Accuracy')\n",
        "ax2.legend()\n",
        "\n",
        "plt.show()"
      ],
      "metadata": {
        "id": "q1uxQjWtS3Yo",
        "outputId": "2bfdba93-fb8b-4f65-9ffa-e13ada440cb5",
        "colab": {
          "base_uri": "https://localhost:8080/",
          "height": 718
        }
      },
      "execution_count": 13,
      "outputs": [
        {
          "output_type": "display_data",
          "data": {
            "text/plain": [
              "<Figure size 800x800 with 2 Axes>"
            ],
            "image/png": "[encoded data removed]"
          },
          "metadata": {}
        }
      ]
    }
  ]
}