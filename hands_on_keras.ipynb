{
  "nbformat": 4,
  "nbformat_minor": 0,
  "metadata": {
    "colab": {
      "provenance": [],
      "authorship_tag": "ABX9TyM3eT7Y0kUkjco5IVBATi5u",
      "include_colab_link": true
    },
    "kernelspec": {
      "name": "python3",
      "display_name": "Python 3"
    },
    "language_info": {
      "name": "python"
    },
    "accelerator": "GPU",
    "gpuClass": "standard"
  },
  "cells": [
    {
      "cell_type": "markdown",
      "metadata": {
        "id": "view-in-github",
        "colab_type": "text"
      },
      "source": [
        "<a href=\"https://colab.research.google.com/github/louisestella/deepLearning/blob/main/hands_on_keras.ipynb\" target=\"_parent\"><img src=\"https://colab.research.google.com/assets/colab-badge.svg\" alt=\"Open In Colab\"/></a>"
      ]
    },
    {
      "cell_type": "markdown",
      "source": [
        "**UFRN** - Departamento de Informática e Matemática Aplicada\n",
        "\n",
        "Inteligência Artificial - **Aprendizado Profundo**\n",
        "\n",
        "**Disciplina:** DIM0494 - *Tópicos Especiais em Computação XV*\n",
        "\n",
        "**Professor:** Ranniery Maia\n",
        "\n",
        "**Aluna:** Louise Stella Lima Barbosa"
      ],
      "metadata": {
        "id": "U_-URzOQCIH7"
      }
    },
    {
      "cell_type": "markdown",
      "source": [
        "# Tarefa  - Hands on KERAS"
      ],
      "metadata": {
        "id": "nxYvlNJmCVQy"
      }
    },
    {
      "cell_type": "code",
      "execution_count": 1,
      "metadata": {
        "id": "rn-4cgeTBEx1"
      },
      "outputs": [],
      "source": [
        "# load libraries\n",
        "from sklearn.metrics import accuracy_score,classification_report\n",
        "import numpy as np\n",
        "import matplotlib.pyplot as plt\n",
        "from sklearn import svm\n",
        "from tensorflow import keras\n",
        "from tensorflow.keras import layers\n",
        "\n"
      ]
    },
    {
      "cell_type": "code",
      "source": [
        "# Load the data and split it between train and test sets\n",
        "(X_train, y_train), (X_test, y_test) = keras.datasets.mnist.load_data()\n",
        "\n"
      ],
      "metadata": {
        "colab": {
          "base_uri": "https://localhost:8080/"
        },
        "id": "RXdMzaGRBVmD",
        "outputId": "8c6a5650-4d91-4389-9ce9-f2cf290cb7ac"
      },
      "execution_count": 2,
      "outputs": [
        {
          "output_type": "stream",
          "name": "stdout",
          "text": [
            "Downloading data from https://storage.googleapis.com/tensorflow/tf-keras-datasets/mnist.npz\n",
            "11490434/11490434 [==============================] - 1s 0us/step\n"
          ]
        }
      ]
    },
    {
      "cell_type": "code",
      "source": [
        "# Model / data parameters\n",
        "num_classes = 10\n",
        "input_shape = (28, 28, 1)\n"
      ],
      "metadata": {
        "id": "-Fg_utTiBdnX"
      },
      "execution_count": 3,
      "outputs": []
    },
    {
      "cell_type": "markdown",
      "source": [
        "\n",
        "# pré-processamento de dados\n"
      ],
      "metadata": {
        "id": "5H5sSAS5BeoI"
      }
    },
    {
      "cell_type": "code",
      "source": [
        "# Scale images to the [0, 1] range\n",
        "X_train = X_train.astype(\"float32\") / 255\n",
        "X_test = X_test.astype(\"float32\") / 255\n",
        "\n",
        "# Make sure images have shape (28, 28, 1)\n",
        "X_train = np.expand_dims(X_train, -1)\n",
        "X_test = np.expand_dims(X_test, -1)\n",
        "print(\"X_train shape:\", X_train.shape)\n",
        "print(X_train.shape[0], \"train samples\")\n",
        "print(X_test.shape[0], \"test samples\")"
      ],
      "metadata": {
        "colab": {
          "base_uri": "https://localhost:8080/"
        },
        "id": "5Xc7oGlRBley",
        "outputId": "83a8a845-c218-4072-af45-a6c6b5be494f"
      },
      "execution_count": 4,
      "outputs": [
        {
          "output_type": "stream",
          "name": "stdout",
          "text": [
            "X_train shape: (60000, 28, 28, 1)\n",
            "60000 train samples\n",
            "10000 test samples\n"
          ]
        }
      ]
    },
    {
      "cell_type": "code",
      "source": [
        "# convert class vectors to binary class matrices\n",
        "y_train = keras.utils.to_categorical(y_train, num_classes)\n",
        "y_test = keras.utils.to_categorical(y_test, num_classes)\n",
        "print(\"y_train shape:\", y_train.shape)"
      ],
      "metadata": {
        "colab": {
          "base_uri": "https://localhost:8080/"
        },
        "id": "4UVK3g0CBpX6",
        "outputId": "6dc23a11-a656-4a15-9a65-0c2d173e4663"
      },
      "execution_count": 5,
      "outputs": [
        {
          "output_type": "stream",
          "name": "stdout",
          "text": [
            "y_train shape: (60000, 10)\n"
          ]
        }
      ]
    },
    {
      "cell_type": "markdown",
      "source": [
        "# Construção do modelo"
      ],
      "metadata": {
        "id": "eFv-qivZBsKU"
      }
    },
    {
      "cell_type": "code",
      "source": [
        "model = keras.Sequential(\n",
        "    [\n",
        "        keras.Input(shape=input_shape),\n",
        "        layers.Conv2D(32, kernel_size=(3, 3), activation=\"relu\"),\n",
        "        layers.MaxPooling2D(pool_size=(2, 2)),\n",
        "        layers.Conv2D(64, kernel_size=(3, 3), activation=\"relu\"),\n",
        "        layers.MaxPooling2D(pool_size=(2, 2)),\n",
        "        layers.Flatten(),\n",
        "        layers.Dropout(0.25),\n",
        "        layers.Dense(num_classes, activation=\"softmax\"),\n",
        "    ]\n",
        ")\n",
        "\n",
        "model.summary()"
      ],
      "metadata": {
        "colab": {
          "base_uri": "https://localhost:8080/"
        },
        "id": "_VJOaxqWBu9_",
        "outputId": "fa29247f-578d-4903-b9b1-2992c6d736ad"
      },
      "execution_count": 6,
      "outputs": [
        {
          "output_type": "stream",
          "name": "stdout",
          "text": [
            "Model: \"sequential\"\n",
            "_________________________________________________________________\n",
            " Layer (type)                Output Shape              Param #   \n",
            "=================================================================\n",
            " conv2d (Conv2D)             (None, 26, 26, 32)        320       \n",
            "                                                                 \n",
            " max_pooling2d (MaxPooling2D  (None, 13, 13, 32)       0         \n",
            " )                                                               \n",
            "                                                                 \n",
            " conv2d_1 (Conv2D)           (None, 11, 11, 64)        18496     \n",
            "                                                                 \n",
            " max_pooling2d_1 (MaxPooling  (None, 5, 5, 64)         0         \n",
            " 2D)                                                             \n",
            "                                                                 \n",
            " flatten (Flatten)           (None, 1600)              0         \n",
            "                                                                 \n",
            " dropout (Dropout)           (None, 1600)              0         \n",
            "                                                                 \n",
            " dense (Dense)               (None, 10)                16010     \n",
            "                                                                 \n",
            "=================================================================\n",
            "Total params: 34,826\n",
            "Trainable params: 34,826\n",
            "Non-trainable params: 0\n",
            "_________________________________________________________________\n"
          ]
        }
      ]
    },
    {
      "cell_type": "markdown",
      "source": [
        "# Treinamento do modelo"
      ],
      "metadata": {
        "id": "2QkcRSb9BzU-"
      }
    },
    {
      "cell_type": "code",
      "source": [
        "# Hyperparameters\n",
        "batch_size = 128\n",
        "epochs = 30\n",
        "model.compile(loss=\"categorical_crossentropy\", optimizer=\"adam\", metrics=[\"accuracy\"])\n",
        "\n",
        "from sklearn.model_selection import train_test_split\n",
        "\n",
        "# Separate the test data\n",
        "X_train1, X_val, y_train1, y_val = train_test_split(X_train, y_train, test_size=0.2, shuffle=True)\n",
        "\n",
        "# model training\n",
        "history = model.fit(X_train1,\n",
        "                    y_train1,\n",
        "                    batch_size=batch_size,\n",
        "                    epochs=epochs,\n",
        "                    validation_data=(X_val, y_val),\n",
        "                    shuffle=True)\n",
        "\n"
      ],
      "metadata": {
        "colab": {
          "base_uri": "https://localhost:8080/"
        },
        "id": "NjGCZrCnB1om",
        "outputId": "f7683282-83ae-40c1-9c98-d7bd3995030c"
      },
      "execution_count": 7,
      "outputs": [
        {
          "output_type": "stream",
          "name": "stdout",
          "text": [
            "Epoch 1/30\n",
            "375/375 [==============================] - 11s 6ms/step - loss: 0.3449 - accuracy: 0.9005 - val_loss: 0.1125 - val_accuracy: 0.9681\n",
            "Epoch 2/30\n",
            "375/375 [==============================] - 2s 5ms/step - loss: 0.0975 - accuracy: 0.9703 - val_loss: 0.0724 - val_accuracy: 0.9780\n",
            "Epoch 3/30\n",
            "375/375 [==============================] - 2s 5ms/step - loss: 0.0734 - accuracy: 0.9779 - val_loss: 0.0644 - val_accuracy: 0.9804\n",
            "Epoch 4/30\n",
            "375/375 [==============================] - 2s 5ms/step - loss: 0.0584 - accuracy: 0.9815 - val_loss: 0.0570 - val_accuracy: 0.9835\n",
            "Epoch 5/30\n",
            "375/375 [==============================] - 2s 6ms/step - loss: 0.0509 - accuracy: 0.9844 - val_loss: 0.0497 - val_accuracy: 0.9862\n",
            "Epoch 6/30\n",
            "375/375 [==============================] - 2s 5ms/step - loss: 0.0448 - accuracy: 0.9856 - val_loss: 0.0467 - val_accuracy: 0.9862\n",
            "Epoch 7/30\n",
            "375/375 [==============================] - 2s 5ms/step - loss: 0.0400 - accuracy: 0.9874 - val_loss: 0.0420 - val_accuracy: 0.9868\n",
            "Epoch 8/30\n",
            "375/375 [==============================] - 2s 5ms/step - loss: 0.0361 - accuracy: 0.9886 - val_loss: 0.0383 - val_accuracy: 0.9886\n",
            "Epoch 9/30\n",
            "375/375 [==============================] - 2s 5ms/step - loss: 0.0336 - accuracy: 0.9891 - val_loss: 0.0373 - val_accuracy: 0.9870\n",
            "Epoch 10/30\n",
            "375/375 [==============================] - 2s 5ms/step - loss: 0.0310 - accuracy: 0.9902 - val_loss: 0.0373 - val_accuracy: 0.9870\n",
            "Epoch 11/30\n",
            "375/375 [==============================] - 2s 5ms/step - loss: 0.0281 - accuracy: 0.9910 - val_loss: 0.0362 - val_accuracy: 0.9892\n",
            "Epoch 12/30\n",
            "375/375 [==============================] - 2s 6ms/step - loss: 0.0259 - accuracy: 0.9914 - val_loss: 0.0370 - val_accuracy: 0.9872\n",
            "Epoch 13/30\n",
            "375/375 [==============================] - 2s 5ms/step - loss: 0.0234 - accuracy: 0.9924 - val_loss: 0.0383 - val_accuracy: 0.9887\n",
            "Epoch 14/30\n",
            "375/375 [==============================] - 2s 5ms/step - loss: 0.0223 - accuracy: 0.9927 - val_loss: 0.0393 - val_accuracy: 0.9880\n",
            "Epoch 15/30\n",
            "375/375 [==============================] - 2s 5ms/step - loss: 0.0211 - accuracy: 0.9931 - val_loss: 0.0372 - val_accuracy: 0.9892\n",
            "Epoch 16/30\n",
            "375/375 [==============================] - 2s 5ms/step - loss: 0.0194 - accuracy: 0.9937 - val_loss: 0.0357 - val_accuracy: 0.9892\n",
            "Epoch 17/30\n",
            "375/375 [==============================] - 2s 5ms/step - loss: 0.0190 - accuracy: 0.9937 - val_loss: 0.0351 - val_accuracy: 0.9891\n",
            "Epoch 18/30\n",
            "375/375 [==============================] - 2s 6ms/step - loss: 0.0160 - accuracy: 0.9948 - val_loss: 0.0381 - val_accuracy: 0.9879\n",
            "Epoch 19/30\n",
            "375/375 [==============================] - 2s 5ms/step - loss: 0.0157 - accuracy: 0.9950 - val_loss: 0.0363 - val_accuracy: 0.9888\n",
            "Epoch 20/30\n",
            "375/375 [==============================] - 2s 5ms/step - loss: 0.0156 - accuracy: 0.9951 - val_loss: 0.0345 - val_accuracy: 0.9893\n",
            "Epoch 21/30\n",
            "375/375 [==============================] - 2s 5ms/step - loss: 0.0155 - accuracy: 0.9947 - val_loss: 0.0337 - val_accuracy: 0.9904\n",
            "Epoch 22/30\n",
            "375/375 [==============================] - 2s 5ms/step - loss: 0.0138 - accuracy: 0.9956 - val_loss: 0.0338 - val_accuracy: 0.9903\n",
            "Epoch 23/30\n",
            "375/375 [==============================] - 2s 5ms/step - loss: 0.0116 - accuracy: 0.9960 - val_loss: 0.0354 - val_accuracy: 0.9893\n",
            "Epoch 24/30\n",
            "375/375 [==============================] - 2s 5ms/step - loss: 0.0120 - accuracy: 0.9961 - val_loss: 0.0346 - val_accuracy: 0.9899\n",
            "Epoch 25/30\n",
            "375/375 [==============================] - 2s 6ms/step - loss: 0.0123 - accuracy: 0.9956 - val_loss: 0.0344 - val_accuracy: 0.9893\n",
            "Epoch 26/30\n",
            "375/375 [==============================] - 2s 5ms/step - loss: 0.0107 - accuracy: 0.9966 - val_loss: 0.0374 - val_accuracy: 0.9891\n",
            "Epoch 27/30\n",
            "375/375 [==============================] - 2s 5ms/step - loss: 0.0112 - accuracy: 0.9959 - val_loss: 0.0396 - val_accuracy: 0.9887\n",
            "Epoch 28/30\n",
            "375/375 [==============================] - 2s 5ms/step - loss: 0.0110 - accuracy: 0.9960 - val_loss: 0.0339 - val_accuracy: 0.9901\n",
            "Epoch 29/30\n",
            "375/375 [==============================] - 2s 5ms/step - loss: 0.0098 - accuracy: 0.9965 - val_loss: 0.0378 - val_accuracy: 0.9905\n",
            "Epoch 30/30\n",
            "375/375 [==============================] - 2s 5ms/step - loss: 0.0095 - accuracy: 0.9970 - val_loss: 0.0378 - val_accuracy: 0.9901\n"
          ]
        }
      ]
    },
    {
      "cell_type": "markdown",
      "source": [
        "# Avaliação do modelo"
      ],
      "metadata": {
        "id": "FKVZ0Qv3B7VM"
      }
    },
    {
      "cell_type": "code",
      "source": [
        "score = model.evaluate(X_test, y_test, verbose=0)\n",
        "print(\"Test loss:\", score[0])\n",
        "print(\"Test accuracy:\", score[1])"
      ],
      "metadata": {
        "colab": {
          "base_uri": "https://localhost:8080/"
        },
        "id": "93rbD4IkB9GM",
        "outputId": "03040116-c6c9-49c8-f6d8-1fe4a5b0a30d"
      },
      "execution_count": 8,
      "outputs": [
        {
          "output_type": "stream",
          "name": "stdout",
          "text": [
            "Test loss: 0.03045422025024891\n",
            "Test accuracy: 0.9912999868392944\n"
          ]
        }
      ]
    },
    {
      "cell_type": "code",
      "source": [
        "plt.figure()\n",
        "plt.plot(history.epoch, history.history['val_loss'], 'o-r', label=\"Validação\")\n",
        "plt.plot(history.epoch, history.history['loss'],',-y', label=\"Treinamento\")\n",
        "plt.title(\"Curva de aprendizado: Erro CNN\")\n",
        "plt.xlabel(\"Época\")\n",
        "plt.ylabel(\"Erro\")\n",
        "plt.legend()\n",
        "\n",
        "plt.figure()\n",
        "plt.plot(history.epoch, history.history['val_accuracy'], 'o-r', label=\"Validação\")\n",
        "plt.plot(history.epoch, history.history['accuracy'],',-y', label=\"Treinamento\")\n",
        "plt.title(\"Curva de aprendizado: Erro CNN\")\n",
        "plt.xlabel(\"Época\")\n",
        "plt.ylabel(\"Erro\")\n",
        "plt.legend()"
      ],
      "metadata": {
        "colab": {
          "base_uri": "https://localhost:8080/",
          "height": 949
        },
        "id": "MwEf2ePdCBn2",
        "outputId": "422bab30-4c94-4aa4-e2c4-759a433c484c"
      },
      "execution_count": 9,
      "outputs": [
        {
          "output_type": "execute_result",
          "data": {
            "text/plain": [
              "<matplotlib.legend.Legend at 0x7ff471a0af70>"
            ]
          },
          "metadata": {},
          "execution_count": 9
        },
        {
          "output_type": "display_data",
          "data": {
            "text/plain": [
              "<Figure size 640x480 with 1 Axes>"
            ],
            "image/png": "[encoded data removed]"
          },
          "metadata": {}
        },
        {
          "output_type": "display_data",
          "data": {
            "text/plain": [
              "<Figure size 640x480 with 1 Axes>"
            ],
            "image/png": "[encoded data removed]"
          },
          "metadata": {}
        }
      ]
    }
  ]
}