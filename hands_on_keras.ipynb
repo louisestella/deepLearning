{
  "nbformat": 4,
  "nbformat_minor": 0,
  "metadata": {
    "colab": {
      "provenance": [],
      "authorship_tag": "ABX9TyM0f5MfLNqjyqEZNhuO9AY/",
      "include_colab_link": true
    },
    "kernelspec": {
      "name": "python3",
      "display_name": "Python 3"
    },
    "language_info": {
      "name": "python"
    },
    "accelerator": "GPU",
    "gpuClass": "standard"
  },
  "cells": [
    {
      "cell_type": "markdown",
      "metadata": {
        "id": "view-in-github",
        "colab_type": "text"
      },
      "source": [
        "<a href=\"https://colab.research.google.com/github/louisestella/deepLearning/blob/main/hands_on_keras.ipynb\" target=\"_parent\"><img src=\"https://colab.research.google.com/assets/colab-badge.svg\" alt=\"Open In Colab\"/></a>"
      ]
    },
    {
      "cell_type": "markdown",
      "source": [
        "**UFRN** - Departamento de Informática e Matemática Aplicada\n",
        "\n",
        "Inteligência Artificial - **Aprendizado Profundo**\n",
        "\n",
        "**Disciplina:** DIM0494 - *Tópicos Especiais em Computação XV*\n",
        "\n",
        "**Professor:** Ranniery Maia\n",
        "\n",
        "**Aluna:** Louise Stella Lima Barbosa"
      ],
      "metadata": {
        "id": "U_-URzOQCIH7"
      }
    },
    {
      "cell_type": "markdown",
      "source": [
        "# Tarefa  - Hands on KERAS"
      ],
      "metadata": {
        "id": "nxYvlNJmCVQy"
      }
    },
    {
      "cell_type": "code",
      "execution_count": 1,
      "metadata": {
        "id": "rn-4cgeTBEx1"
      },
      "outputs": [],
      "source": [
        "# load libraries\n",
        "from sklearn.metrics import accuracy_score,classification_report\n",
        "import numpy as np\n",
        "import matplotlib.pyplot as plt\n",
        "from sklearn import svm\n",
        "from tensorflow import keras\n",
        "from tensorflow.keras import layers\n",
        "\n"
      ]
    },
    {
      "cell_type": "code",
      "source": [
        "# Load the data and split it between train and test sets\n",
        "(X_train, y_train), (X_test, y_test) = keras.datasets.mnist.load_data()\n",
        "\n"
      ],
      "metadata": {
        "colab": {
          "base_uri": "https://localhost:8080/"
        },
        "id": "RXdMzaGRBVmD",
        "outputId": "c0c0a496-271a-4abe-8f40-c240d4ea2adf"
      },
      "execution_count": 2,
      "outputs": [
        {
          "output_type": "stream",
          "name": "stdout",
          "text": [
            "Downloading data from https://storage.googleapis.com/tensorflow/tf-keras-datasets/mnist.npz\n",
            "11490434/11490434 [==============================] - 0s 0us/step\n"
          ]
        }
      ]
    },
    {
      "cell_type": "code",
      "source": [
        "# Model / data parameters\n",
        "num_classes = 10\n",
        "input_shape = (28, 28, 1)\n"
      ],
      "metadata": {
        "id": "-Fg_utTiBdnX"
      },
      "execution_count": 3,
      "outputs": []
    },
    {
      "cell_type": "markdown",
      "source": [
        "\n",
        "# pré-processamento de dados\n"
      ],
      "metadata": {
        "id": "5H5sSAS5BeoI"
      }
    },
    {
      "cell_type": "code",
      "source": [
        "# Scale images to the [0, 1] range\n",
        "X_train = X_train.astype(\"float32\") / 255\n",
        "X_test = X_test.astype(\"float32\") / 255\n",
        "\n",
        "# Make sure images have shape (28, 28, 1)\n",
        "X_train = np.expand_dims(X_train, -1)\n",
        "X_test = np.expand_dims(X_test, -1)\n",
        "print(\"X_train shape:\", X_train.shape)\n",
        "print(X_train.shape[0], \"train samples\")\n",
        "print(X_test.shape[0], \"test samples\")"
      ],
      "metadata": {
        "colab": {
          "base_uri": "https://localhost:8080/"
        },
        "id": "5Xc7oGlRBley",
        "outputId": "cfaf5846-c6c4-472d-f22f-1b6b5729081f"
      },
      "execution_count": 8,
      "outputs": [
        {
          "output_type": "stream",
          "name": "stdout",
          "text": [
            "X_train shape: (60000, 28, 28, 1, 1)\n",
            "60000 train samples\n",
            "10000 test samples\n"
          ]
        }
      ]
    },
    {
      "cell_type": "code",
      "source": [
        "# convert class vectors to binary class matrices\n",
        "#y_train = keras.utils.to_categorical(y_train, num_classes)\n",
        "#y_test = keras.utils.to_categorical(y_test, num_classes)\n",
        "#print(\"y_train shape:\", y_train.shape)"
      ],
      "metadata": {
        "id": "4UVK3g0CBpX6"
      },
      "execution_count": 9,
      "outputs": []
    },
    {
      "cell_type": "markdown",
      "source": [
        "# Construção do modelo"
      ],
      "metadata": {
        "id": "eFv-qivZBsKU"
      }
    },
    {
      "cell_type": "code",
      "source": [
        "model = keras.Sequential(\n",
        "    [\n",
        "        keras.Input(shape=input_shape),\n",
        "        layers.Conv2D(32, kernel_size=(3, 3), activation=\"relu\"),\n",
        "        layers.MaxPooling2D(pool_size=(2, 2)),\n",
        "        layers.Conv2D(64, kernel_size=(3, 3), activation=\"relu\"),\n",
        "        layers.MaxPooling2D(pool_size=(2, 2)),\n",
        "        layers.Flatten(),\n",
        "        layers.Dropout(0.25),\n",
        "        #layers.Dense(num_classes, activation=\"softmax\"),\n",
        "        layers.Dense(num_classes, activation=\"linear\"),\n",
        "    ]\n",
        ")\n",
        "\n",
        "model.summary()"
      ],
      "metadata": {
        "colab": {
          "base_uri": "https://localhost:8080/"
        },
        "id": "_VJOaxqWBu9_",
        "outputId": "7362df90-c532-4f7e-a583-072d98f65b91"
      },
      "execution_count": 10,
      "outputs": [
        {
          "output_type": "stream",
          "name": "stdout",
          "text": [
            "Model: \"sequential_2\"\n",
            "_________________________________________________________________\n",
            " Layer (type)                Output Shape              Param #   \n",
            "=================================================================\n",
            " conv2d_4 (Conv2D)           (None, 26, 26, 32)        320       \n",
            "                                                                 \n",
            " max_pooling2d_4 (MaxPooling  (None, 13, 13, 32)       0         \n",
            " 2D)                                                             \n",
            "                                                                 \n",
            " conv2d_5 (Conv2D)           (None, 11, 11, 64)        18496     \n",
            "                                                                 \n",
            " max_pooling2d_5 (MaxPooling  (None, 5, 5, 64)         0         \n",
            " 2D)                                                             \n",
            "                                                                 \n",
            " flatten_2 (Flatten)         (None, 1600)              0         \n",
            "                                                                 \n",
            " dropout_2 (Dropout)         (None, 1600)              0         \n",
            "                                                                 \n",
            " dense_2 (Dense)             (None, 10)                16010     \n",
            "                                                                 \n",
            "=================================================================\n",
            "Total params: 34,826\n",
            "Trainable params: 34,826\n",
            "Non-trainable params: 0\n",
            "_________________________________________________________________\n"
          ]
        }
      ]
    },
    {
      "cell_type": "markdown",
      "source": [
        "# Treinamento do modelo"
      ],
      "metadata": {
        "id": "2QkcRSb9BzU-"
      }
    },
    {
      "cell_type": "code",
      "source": [
        "# Hyperparameters\n",
        "batch_size = 128\n",
        "epochs = 30\n",
        "#model.compile(loss=\"categorical_crossentropy\", optimizer=\"adam\", metrics=[\"accuracy\"])\n",
        "model.compile(loss=\"mean_squared_error\", optimizer=\"adam\", metrics=[\"mean_squared_error\"])\n",
        "\n",
        "from sklearn.model_selection import train_test_split\n",
        "\n",
        "# Separate the test data\n",
        "X_train1, X_val, y_train1, y_val = train_test_split(X_train, y_train, test_size=0.2, shuffle=True)\n",
        "\n",
        "# model training\n",
        "history = model.fit(X_train1,\n",
        "                    y_train1,\n",
        "                    batch_size=batch_size,\n",
        "                    epochs=epochs,\n",
        "                    validation_data=(X_val, y_val),\n",
        "                    shuffle=True)\n",
        "\n"
      ],
      "metadata": {
        "colab": {
          "base_uri": "https://localhost:8080/"
        },
        "id": "NjGCZrCnB1om",
        "outputId": "f90146f3-1924-4cee-9214-bb7207050525"
      },
      "execution_count": 12,
      "outputs": [
        {
          "output_type": "stream",
          "name": "stdout",
          "text": [
            "Epoch 1/30\n",
            "375/375 [==============================] - 13s 5ms/step - loss: 0.0711 - mean_squared_error: 0.0711 - val_loss: 0.0451 - val_mean_squared_error: 0.0451\n",
            "Epoch 2/30\n",
            "375/375 [==============================] - 2s 5ms/step - loss: 0.0383 - mean_squared_error: 0.0383 - val_loss: 0.0297 - val_mean_squared_error: 0.0297\n",
            "Epoch 3/30\n",
            "375/375 [==============================] - 2s 5ms/step - loss: 0.0299 - mean_squared_error: 0.0299 - val_loss: 0.0249 - val_mean_squared_error: 0.0249\n",
            "Epoch 4/30\n",
            "375/375 [==============================] - 2s 4ms/step - loss: 0.0269 - mean_squared_error: 0.0269 - val_loss: 0.0228 - val_mean_squared_error: 0.0228\n",
            "Epoch 5/30\n",
            "375/375 [==============================] - 2s 4ms/step - loss: 0.0251 - mean_squared_error: 0.0251 - val_loss: 0.0212 - val_mean_squared_error: 0.0212\n",
            "Epoch 6/30\n",
            "375/375 [==============================] - 2s 4ms/step - loss: 0.0238 - mean_squared_error: 0.0238 - val_loss: 0.0202 - val_mean_squared_error: 0.0202\n",
            "Epoch 7/30\n",
            "375/375 [==============================] - 2s 4ms/step - loss: 0.0228 - mean_squared_error: 0.0228 - val_loss: 0.0191 - val_mean_squared_error: 0.0191\n",
            "Epoch 8/30\n",
            "375/375 [==============================] - 2s 5ms/step - loss: 0.0220 - mean_squared_error: 0.0220 - val_loss: 0.0185 - val_mean_squared_error: 0.0185\n",
            "Epoch 9/30\n",
            "375/375 [==============================] - 2s 4ms/step - loss: 0.0213 - mean_squared_error: 0.0213 - val_loss: 0.0178 - val_mean_squared_error: 0.0178\n",
            "Epoch 10/30\n",
            "375/375 [==============================] - 2s 5ms/step - loss: 0.0209 - mean_squared_error: 0.0209 - val_loss: 0.0177 - val_mean_squared_error: 0.0177\n",
            "Epoch 11/30\n",
            "375/375 [==============================] - 2s 4ms/step - loss: 0.0204 - mean_squared_error: 0.0204 - val_loss: 0.0175 - val_mean_squared_error: 0.0175\n",
            "Epoch 12/30\n",
            "375/375 [==============================] - 2s 4ms/step - loss: 0.0200 - mean_squared_error: 0.0200 - val_loss: 0.0167 - val_mean_squared_error: 0.0167\n",
            "Epoch 13/30\n",
            "375/375 [==============================] - 2s 4ms/step - loss: 0.0197 - mean_squared_error: 0.0197 - val_loss: 0.0168 - val_mean_squared_error: 0.0168\n",
            "Epoch 14/30\n",
            "375/375 [==============================] - 2s 4ms/step - loss: 0.0194 - mean_squared_error: 0.0194 - val_loss: 0.0161 - val_mean_squared_error: 0.0161\n",
            "Epoch 15/30\n",
            "375/375 [==============================] - 2s 4ms/step - loss: 0.0192 - mean_squared_error: 0.0192 - val_loss: 0.0158 - val_mean_squared_error: 0.0158\n",
            "Epoch 16/30\n",
            "375/375 [==============================] - 2s 4ms/step - loss: 0.0188 - mean_squared_error: 0.0188 - val_loss: 0.0159 - val_mean_squared_error: 0.0159\n",
            "Epoch 17/30\n",
            "375/375 [==============================] - 2s 5ms/step - loss: 0.0186 - mean_squared_error: 0.0186 - val_loss: 0.0159 - val_mean_squared_error: 0.0159\n",
            "Epoch 18/30\n",
            "375/375 [==============================] - 2s 4ms/step - loss: 0.0185 - mean_squared_error: 0.0185 - val_loss: 0.0152 - val_mean_squared_error: 0.0152\n",
            "Epoch 19/30\n",
            "375/375 [==============================] - 2s 4ms/step - loss: 0.0182 - mean_squared_error: 0.0182 - val_loss: 0.0150 - val_mean_squared_error: 0.0150\n",
            "Epoch 20/30\n",
            "375/375 [==============================] - 2s 4ms/step - loss: 0.0180 - mean_squared_error: 0.0180 - val_loss: 0.0150 - val_mean_squared_error: 0.0150\n",
            "Epoch 21/30\n",
            "375/375 [==============================] - 2s 4ms/step - loss: 0.0179 - mean_squared_error: 0.0179 - val_loss: 0.0147 - val_mean_squared_error: 0.0147\n",
            "Epoch 22/30\n",
            "375/375 [==============================] - 2s 4ms/step - loss: 0.0177 - mean_squared_error: 0.0177 - val_loss: 0.0145 - val_mean_squared_error: 0.0145\n",
            "Epoch 23/30\n",
            "375/375 [==============================] - 2s 4ms/step - loss: 0.0176 - mean_squared_error: 0.0176 - val_loss: 0.0144 - val_mean_squared_error: 0.0144\n",
            "Epoch 24/30\n",
            "375/375 [==============================] - 2s 5ms/step - loss: 0.0175 - mean_squared_error: 0.0175 - val_loss: 0.0145 - val_mean_squared_error: 0.0145\n",
            "Epoch 25/30\n",
            "375/375 [==============================] - 2s 5ms/step - loss: 0.0174 - mean_squared_error: 0.0174 - val_loss: 0.0141 - val_mean_squared_error: 0.0141\n",
            "Epoch 26/30\n",
            "375/375 [==============================] - 2s 4ms/step - loss: 0.0172 - mean_squared_error: 0.0172 - val_loss: 0.0141 - val_mean_squared_error: 0.0141\n",
            "Epoch 27/30\n",
            "375/375 [==============================] - 2s 4ms/step - loss: 0.0172 - mean_squared_error: 0.0172 - val_loss: 0.0141 - val_mean_squared_error: 0.0141\n",
            "Epoch 28/30\n",
            "375/375 [==============================] - 2s 4ms/step - loss: 0.0171 - mean_squared_error: 0.0171 - val_loss: 0.0141 - val_mean_squared_error: 0.0141\n",
            "Epoch 29/30\n",
            "375/375 [==============================] - 2s 4ms/step - loss: 0.0170 - mean_squared_error: 0.0170 - val_loss: 0.0139 - val_mean_squared_error: 0.0139\n",
            "Epoch 30/30\n",
            "375/375 [==============================] - 2s 5ms/step - loss: 0.0169 - mean_squared_error: 0.0169 - val_loss: 0.0138 - val_mean_squared_error: 0.0138\n"
          ]
        }
      ]
    },
    {
      "cell_type": "markdown",
      "source": [
        "# Avaliação do modelo"
      ],
      "metadata": {
        "id": "FKVZ0Qv3B7VM"
      }
    },
    {
      "cell_type": "code",
      "source": [
        "score = model.evaluate(X_test, y_test, verbose=0)\n",
        "print(\"Test loss:\", score[0])\n",
        "#print(\"Test accuracy:\", score[1])"
      ],
      "metadata": {
        "colab": {
          "base_uri": "https://localhost:8080/"
        },
        "id": "93rbD4IkB9GM",
        "outputId": "06e9b243-966e-4617-872b-6930a1040bad"
      },
      "execution_count": 20,
      "outputs": [
        {
          "output_type": "stream",
          "name": "stdout",
          "text": [
            "Test loss: 0.013218944892287254\n"
          ]
        }
      ]
    },
    {
      "cell_type": "code",
      "source": [
        "plt.figure()\n",
        "plt.plot(history.epoch, history.history['val_loss'], 'o-r', label=\"Validação\")\n",
        "plt.plot(history.epoch, history.history['loss'],',-y', label=\"Treinamento\")\n",
        "plt.title(\"Curva de aprendizado: Erro CNN\")\n",
        "plt.xlabel(\"Época\")\n",
        "plt.ylabel(\"Erro\")\n",
        "plt.legend()\n",
        "\n",
        "\"\"\"plt.figure()\n",
        "plt.plot(history.epoch, history.history['val_accuracy'], 'o-r', label=\"Validação\")\n",
        "plt.plot(history.epoch, history.history['accuracy'],',-y', label=\"Treinamento\")\n",
        "plt.title(\"Curva de aprendizado: Erro CNN\")\n",
        "plt.xlabel(\"Época\")\n",
        "plt.ylabel(\"Erro\")\n",
        "plt.legend()\"\"\"\n",
        "\n",
        "plt.show()"
      ],
      "metadata": {
        "colab": {
          "base_uri": "https://localhost:8080/",
          "height": 474
        },
        "id": "MwEf2ePdCBn2",
        "outputId": "3505ab01-de8b-4cc8-e68c-2ed6239aeb21"
      },
      "execution_count": 19,
      "outputs": [
        {
          "output_type": "display_data",
          "data": {
            "text/plain": [
              "<Figure size 640x480 with 1 Axes>"
            ],
            "image/png": "[encoded data removed]"
          },
          "metadata": {}
        }
      ]
    },
    {
      "cell_type": "code",
      "source": [
        "predictions = model.predict(X_test)\n",
        "predictions"
      ],
      "metadata": {
        "id": "MXWAxa_7GkDL",
        "outputId": "44b325af-45cd-4302-c3b6-d4914100a5c7",
        "colab": {
          "base_uri": "https://localhost:8080/"
        }
      },
      "execution_count": 21,
      "outputs": [
        {
          "output_type": "stream",
          "name": "stdout",
          "text": [
            "313/313 [==============================] - 1s 2ms/step\n"
          ]
        },
        {
          "output_type": "execute_result",
          "data": {
            "text/plain": [
              "array([[-0.0164272 , -0.04765528,  0.00188302, ...,  1.1119765 ,\n",
              "         0.01662442, -0.07419534],\n",
              "       [ 0.14542627, -0.09796642,  0.97803897, ..., -0.10386201,\n",
              "        -0.07087314,  0.03170206],\n",
              "       [ 0.01373723,  0.92001164,  0.01355285, ..., -0.01587828,\n",
              "         0.04206043, -0.02487189],\n",
              "       ...,\n",
              "       [-0.03211333, -0.01550704, -0.04030894, ...,  0.02155405,\n",
              "         0.14609188, -0.02418876],\n",
              "       [ 0.03452846, -0.10532729, -0.02070206, ...,  0.05852047,\n",
              "         0.2610796 ,  0.03431803],\n",
              "       [-0.01636245, -0.0166574 ,  0.11201756, ..., -0.03978197,\n",
              "         0.02318604,  0.02687334]], dtype=float32)"
            ]
          },
          "metadata": {},
          "execution_count": 21
        }
      ]
    },
    {
      "cell_type": "code",
      "source": [
        "predictions[0]"
      ],
      "metadata": {
        "id": "cwHQ8zXDGv2d",
        "outputId": "bd16acbb-70ab-4f28-c59b-20ddd5f7f8c3",
        "colab": {
          "base_uri": "https://localhost:8080/"
        }
      },
      "execution_count": 28,
      "outputs": [
        {
          "output_type": "execute_result",
          "data": {
            "text/plain": [
              "array([-0.0164272 , -0.04765528,  0.00188302, -0.00982866, -0.02648031,\n",
              "       -0.00916154,  0.04852244,  1.1119765 ,  0.01662442, -0.07419534],\n",
              "      dtype=float32)"
            ]
          },
          "metadata": {},
          "execution_count": 28
        }
      ]
    }
  ]
}